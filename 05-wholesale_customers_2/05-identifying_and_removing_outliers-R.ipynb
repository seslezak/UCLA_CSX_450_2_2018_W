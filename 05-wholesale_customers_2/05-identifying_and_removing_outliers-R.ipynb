{
 "cells": [
  {
   "cell_type": "markdown",
   "metadata": {},
   "source": [
    "# Identifying and Removing Outliers"
   ]
  },
  {
   "cell_type": "markdown",
   "metadata": {},
   "source": [
    "To identify outliers in the data, we will use what is [the Tukey Method](http://datapigtechnologies.com/blog/index.php/highlighting-outliers-in-your-data-with-the-tukey-method/). \n",
    "\n",
    "This means that we will look for points that are more than 1.5 times the Inter-quartile range above the third quartile or below the first quartile."
   ]
  },
  {
   "cell_type": "code",
   "execution_count": null,
   "metadata": {},
   "outputs": [],
   "source": [
    "customer_df = read.csv('Wholesale_customers_data.csv')\n",
    "customer_df$Channel <- NULL\n",
    "customer_df$Region <- NULL\n",
    "dim(customer_df)"
   ]
  },
  {
   "cell_type": "code",
   "execution_count": null,
   "metadata": {},
   "outputs": [],
   "source": [
    "customer_log_df = log(customer_df)\n",
    "customer_log_sc_df = data.frame(scale(customer_log_df))"
   ]
  },
  {
   "cell_type": "code",
   "execution_count": null,
   "metadata": {},
   "outputs": [],
   "source": [
    "display_outliers <- function (dataframe, feature, param=1.5) {\n",
    "    feature_vec =  as.vector(dataframe[[feature]])\n",
    "    Q1 <- quantile(feature_vec, .25)\n",
    "    Q3 <- quantile(feature_vec, .75)\n",
    "    tukey_window <- param*(Q3-Q1)\n",
    "    less_than_Q1 <- dataframe[[feature]] < Q1 - tukey_window\n",
    "    greater_than_Q3 <- dataframe[[feature]] > Q3 + tukey_window\n",
    "    tukey_mask <- (less_than_Q1 | greater_than_Q3)\n",
    "    return(dataframe[tukey_mask,])\n",
    "}"
   ]
  },
  {
   "cell_type": "code",
   "execution_count": null,
   "metadata": {},
   "outputs": [],
   "source": [
    "display_outliers(customer_log_sc_df, 'Grocery')"
   ]
  },
  {
   "cell_type": "code",
   "execution_count": null,
   "metadata": {},
   "outputs": [],
   "source": [
    "display_outliers(customer_log_sc_df, 'Milk')"
   ]
  },
  {
   "cell_type": "code",
   "execution_count": null,
   "metadata": {},
   "outputs": [],
   "source": [
    "for (feature in colnames(customer_log_sc_df)){\n",
    "    outlier_count = dim(display_outliers(customer_log_sc_df, feature))[1]\n",
    "    print(paste(feature, outlier_count))\n",
    "}"
   ]
  },
  {
   "cell_type": "markdown",
   "metadata": {},
   "source": [
    "What if we count the rows that show up as an outlier more than once?"
   ]
  },
  {
   "cell_type": "code",
   "execution_count": null,
   "metadata": {},
   "outputs": [],
   "source": [
    "raw_outliers = c()\n",
    "for (feature in colnames(customer_log_sc_df)){\n",
    "    outlier_df = display_outliers(customer_log_sc_df, feature)\n",
    "    outlier_indices = rownames(outlier_df)\n",
    "    raw_outliers = c(raw_outliers, outlier_indices)\n",
    "}\n",
    "raw_outliers"
   ]
  },
  {
   "cell_type": "code",
   "execution_count": null,
   "metadata": {},
   "outputs": [],
   "source": [
    "table(raw_outliers)"
   ]
  },
  {
   "cell_type": "code",
   "execution_count": null,
   "metadata": {},
   "outputs": [],
   "source": [
    "dim(customer_log_sc_df)"
   ]
  },
  {
   "cell_type": "code",
   "execution_count": null,
   "metadata": {},
   "outputs": [],
   "source": []
  }
 ],
 "metadata": {
  "kernelspec": {
   "display_name": "R",
   "language": "R",
   "name": "ir"
  },
  "language_info": {
   "codemirror_mode": "r",
   "file_extension": ".r",
   "mimetype": "text/x-r-source",
   "name": "R",
   "pygments_lexer": "r",
   "version": "3.4.1"
  }
 },
 "nbformat": 4,
 "nbformat_minor": 2
}
