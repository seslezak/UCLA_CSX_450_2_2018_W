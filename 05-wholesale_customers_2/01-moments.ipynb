{
 "cells": [
  {
   "cell_type": "markdown",
   "metadata": {},
   "source": [
    "# Moments\n",
    "\n",
    "> In mathematics, a moment is a specific quantitative measure, used in both mechanics and statistics, of the shape of a set of points.\n",
    "\n",
    "https://en.wikipedia.org/wiki/Moment_(mathematics)\n",
    "\n"
   ]
  },
  {
   "cell_type": "markdown",
   "metadata": {},
   "source": [
    "If the points represent mass:\n",
    "- the zeroth moment is the total mass\n",
    "- the first moment divided by the total mass is the center of mass\n",
    "- the second moment is the rotational inertia"
   ]
  },
  {
   "cell_type": "markdown",
   "metadata": {},
   "source": [
    "If the points represent probability density:\n",
    "\n",
    "- the zeroth moment is the total probability (i.e. one)\n",
    "- the first moment is the mean\n",
    "- the second central moment is the variance\n",
    "- the third central moment is the skewness\n",
    "- the fourth central moment (with normalization and shift) is the kurtosis."
   ]
  },
  {
   "cell_type": "markdown",
   "metadata": {},
   "source": [
    "### Continuous Probability\n",
    "\n",
    "The $k$-th moment of a real-valued continuous function, a **probability density function**, $f(x)$ of a real variable about a value $c$ is\n",
    "\n",
    "$$\\mu_k = \\int_{-\\infty}^\\infty (x - c)^k\\,f(x)\\,\\mathrm{d}x$$"
   ]
  },
  {
   "cell_type": "markdown",
   "metadata": {},
   "source": [
    "### Discrete Probabilty\n",
    "\n",
    "The $k$-th moment of a real-valued discrete function, a **probability mass function**,  $p(x)$ of a real variable about a value $c$ is\n",
    "\n",
    "$$\\mu_k = \\sum (x - c)^kp(x)$$"
   ]
  },
  {
   "cell_type": "markdown",
   "metadata": {},
   "source": [
    "# Simple Case: the Mean"
   ]
  },
  {
   "cell_type": "markdown",
   "metadata": {},
   "source": [
    "Consider the first moment for a discrete valued probabilty where each value has an equal chance of being observed.\n",
    "\n",
    "Then, for a list of $n$ values\n",
    "\n",
    "$$\\mathcal{D} = \\{x_1, \\dots, x_n\\}$$\n",
    "\n",
    "each with probabilty $p(x_k)= \\frac{1}{n}$\n",
    "\n",
    "Then \n",
    "\n",
    "$$\\mu_1 = \\sum (x)^1p(x)= \\sum x\\frac{1}{n} = \\frac{1}{n}\\sum x$$\n",
    "\n",
    "This is the well-known mean you are used to. We typically refer to it simply as $\\mu$\n",
    "\n",
    "$$\\mu = \\frac{1}{n}\\sum x$$\n",
    "\n",
    "We also call this an **Expected Value**, $\\mathbb{E}[x]$, and for the common case\n",
    "\n",
    "$$\\operatorname{E}[x] = \\mu$$\n",
    "\n",
    "In python:"
   ]
  },
  {
   "cell_type": "code",
   "execution_count": null,
   "metadata": {},
   "outputs": [],
   "source": [
    "import numpy as np\n",
    "import seaborn as sns\n",
    "%matplotlib inline"
   ]
  },
  {
   "cell_type": "code",
   "execution_count": null,
   "metadata": {},
   "outputs": [],
   "source": [
    "n = 20\n",
    "D = np.random.randint(1,20,n)\n",
    "D"
   ]
  },
  {
   "cell_type": "code",
   "execution_count": null,
   "metadata": {},
   "outputs": [],
   "source": [
    "mu = 1/(n)*np.sum(D)\n",
    "mu"
   ]
  },
  {
   "cell_type": "code",
   "execution_count": null,
   "metadata": {},
   "outputs": [],
   "source": [
    "D.mean()"
   ]
  },
  {
   "cell_type": "markdown",
   "metadata": {},
   "source": [
    "# Simple Case: the Variance\n",
    "\n",
    "Consider the second **central** moment for a discrete valued probabilty where each value has an equal chance of being observed. We call it **central** because we will center this value around the mean.\n",
    "\n",
    "Then \n",
    "\n",
    "$$\\mu_2 = \\sum (x - \\mu)^2p(x)= \\frac{1}{n}\\sum (x - \\mu)^2$$\n",
    "\n",
    "This is just the expected value of $(x-\\mu)^2$. We call this the **variance**, denoted $\\sigma^2$.\n",
    "\n",
    "$$\\sigma^2 = \\mathbb{E}\\left[(x-\\mu)^2\\right]$$\n",
    "\n",
    "In python:"
   ]
  },
  {
   "cell_type": "code",
   "execution_count": null,
   "metadata": {},
   "outputs": [],
   "source": [
    "var = 1/n*np.sum((D-mu)**2)\n",
    "var"
   ]
  },
  {
   "cell_type": "code",
   "execution_count": null,
   "metadata": {},
   "outputs": [],
   "source": [
    "D.var()"
   ]
  },
  {
   "cell_type": "markdown",
   "metadata": {},
   "source": [
    "Note that the square root of the variance is the standard deviation."
   ]
  },
  {
   "cell_type": "code",
   "execution_count": null,
   "metadata": {},
   "outputs": [],
   "source": [
    "np.sqrt(var)"
   ]
  },
  {
   "cell_type": "code",
   "execution_count": null,
   "metadata": {},
   "outputs": [],
   "source": [
    "D.std()"
   ]
  },
  {
   "cell_type": "markdown",
   "metadata": {},
   "source": [
    "## Advanced Cases: Skew and Kurtosis"
   ]
  },
  {
   "cell_type": "markdown",
   "metadata": {},
   "source": [
    "### Skewness\n",
    "\n",
    "In probability theory and statistics, skewness is a measure of the asymmetry of the probability distribution of a real-valued random variable about its mean. \n",
    "\n",
    "https://en.wikipedia.org/wiki/Skewness\n",
    "\n",
    "<img src=\"https://upload.wikimedia.org/wikipedia/commons/thumb/f/f8/Negative_and_positive_skew_diagrams_%28English%29.svg/892px-Negative_and_positive_skew_diagrams_%28English%29.svg.png\" width=400px>"
   ]
  },
  {
   "cell_type": "markdown",
   "metadata": {},
   "source": [
    "Skewness is the third **standardized** moment. \n",
    "\n",
    "$$\\gamma = \\operatorname{E}\\left[\\left(\\frac{X-\\mu}{\\sigma}\\right)^3 \\right]$$\n",
    "\n",
    "In python:"
   ]
  },
  {
   "cell_type": "code",
   "execution_count": null,
   "metadata": {},
   "outputs": [],
   "source": [
    "skew = 1/n*np.sum(((D-mu)/np.sqrt(var))**3)\n",
    "skew"
   ]
  },
  {
   "cell_type": "code",
   "execution_count": null,
   "metadata": {},
   "outputs": [],
   "source": [
    "import scipy.stats as st"
   ]
  },
  {
   "cell_type": "code",
   "execution_count": null,
   "metadata": {},
   "outputs": [],
   "source": [
    "st.skew(D)"
   ]
  },
  {
   "cell_type": "code",
   "execution_count": null,
   "metadata": {},
   "outputs": [],
   "source": [
    "sns.distplot(D);"
   ]
  },
  {
   "cell_type": "markdown",
   "metadata": {},
   "source": [
    "### Kurtosis"
   ]
  },
  {
   "cell_type": "markdown",
   "metadata": {},
   "source": [
    "In probability theory and statistics, kurtosis (from Greek: κυρτός, kyrtos or kurtos, meaning \"curved, arching\") is a measure of the \"tailedness\" of the probability distribution of a real-valued random variable. In a similar way to the concept of skewness, kurtosis is a descriptor of the shape of a probability distribution and, just as for skewness, there are different ways of quantifying it for a theoretical distribution and corresponding ways of estimating it from a sample from a population.\n",
    "\n",
    "https://en.wikipedia.org/wiki/Kurtosis"
   ]
  },
  {
   "cell_type": "markdown",
   "metadata": {},
   "source": [
    "Kurtosis is the fourth **standardized** moment. \n",
    "\n",
    "$$\\gamma = \\operatorname{E}\\left[\\left(\\frac{X-\\mu}{\\sigma}\\right)^4 \\right]$$\n",
    "\n",
    "In python:"
   ]
  },
  {
   "cell_type": "code",
   "execution_count": null,
   "metadata": {},
   "outputs": [],
   "source": [
    "kurt = 1/n*np.sum(((D-mu)/np.sqrt(var))**4)\n",
    "kurt"
   ]
  },
  {
   "cell_type": "code",
   "execution_count": null,
   "metadata": {},
   "outputs": [],
   "source": [
    "st.kurtosis(D, fisher=False)"
   ]
  },
  {
   "cell_type": "markdown",
   "metadata": {},
   "source": [
    "# Describing a Distribution"
   ]
  },
  {
   "cell_type": "markdown",
   "metadata": {},
   "source": [
    "Using these four values, we can describe the distribution of data."
   ]
  },
  {
   "cell_type": "code",
   "execution_count": null,
   "metadata": {},
   "outputs": [],
   "source": [
    "n = 20\n",
    "D = np.random.randint(1,21,n)\n",
    "print(\"mu: {}, var: {}, skew: {}, kurt: {}\".format(D.mean(), D.var(), st.skew(D), st.kurtosis(D, fisher=False)))\n",
    "sns.distplot(D);"
   ]
  },
  {
   "cell_type": "code",
   "execution_count": null,
   "metadata": {},
   "outputs": [],
   "source": [
    "n = 200\n",
    "D = np.random.randint(1,21,n)\n",
    "print(\"mu: {}, var: {}, skew: {}, kurt: {}\".format(D.mean(), D.var(), st.skew(D), st.kurtosis(D, fisher=False)))\n",
    "sns.distplot(D);"
   ]
  },
  {
   "cell_type": "code",
   "execution_count": null,
   "metadata": {},
   "outputs": [],
   "source": [
    "n = 2000\n",
    "D = np.random.randint(1,21,n)\n",
    "print(\"mu: {}, var: {}, skew: {}, kurt: {}\".format(D.mean(), D.var(), st.skew(D), st.kurtosis(D, fisher=False)))\n",
    "sns.distplot(D);"
   ]
  },
  {
   "cell_type": "code",
   "execution_count": null,
   "metadata": {},
   "outputs": [],
   "source": [
    "n = 20000\n",
    "D = np.random.randint(1,21,n)\n",
    "print(\"mu: {}, var: {}, skew: {}, kurt: {}\".format(D.mean(), D.var(), st.skew(D), st.kurtosis(D, fisher=False)))\n",
    "sns.distplot(D);"
   ]
  },
  {
   "cell_type": "code",
   "execution_count": null,
   "metadata": {},
   "outputs": [],
   "source": [
    "n = 200000\n",
    "D = np.random.randint(1,21,n)\n",
    "print(\"mu: {}, var: {}, skew: {}, kurt: {}\".format(D.mean(), D.var(), st.skew(D), st.kurtosis(D, fisher=False)))\n",
    "sns.distplot(D);"
   ]
  },
  {
   "cell_type": "code",
   "execution_count": null,
   "metadata": {},
   "outputs": [],
   "source": [
    "n = 2000000\n",
    "D = np.random.randint(1,21,n)\n",
    "print(\"mu: {}, var: {}, skew: {}, kurt: {}\".format(D.mean(), D.var(), st.skew(D), st.kurtosis(D, fisher=False)))\n",
    "sns.distplot(D);"
   ]
  },
  {
   "cell_type": "markdown",
   "metadata": {},
   "source": [
    "#### `randint` draws from a uniform distribution"
   ]
  },
  {
   "cell_type": "markdown",
   "metadata": {},
   "source": [
    "    np.random.randint()\n",
    "\n",
    "    Return random integers from the \"discrete uniform\" distribution of\n",
    "    the specified dtype in the \"half-open\" interval [`low`, `high`). If\n",
    "    `high` is None (the default), then results are from [0, `low`)."
   ]
  },
  {
   "cell_type": "markdown",
   "metadata": {},
   "source": [
    "### What about `randn`?"
   ]
  },
  {
   "cell_type": "code",
   "execution_count": null,
   "metadata": {},
   "outputs": [],
   "source": [
    "D"
   ]
  },
  {
   "cell_type": "code",
   "execution_count": null,
   "metadata": {},
   "outputs": [],
   "source": [
    "n = 20\n",
    "D = np.random.randn(n)\n",
    "print(\"mu: {}, var: {}, skew: {}, kurt: {}\".format(D.mean(), D.var(), st.skew(D), st.kurtosis(D, fisher=False)))\n",
    "sns.distplot(D)"
   ]
  },
  {
   "cell_type": "code",
   "execution_count": null,
   "metadata": {},
   "outputs": [],
   "source": [
    "n = 200\n",
    "D = np.random.randn(n)\n",
    "print(\"mu: {}, var: {}, skew: {}, kurt: {}\".format(D.mean(), D.var(), st.skew(D), st.kurtosis(D, fisher=False)))\n",
    "sns.distplot(D)"
   ]
  },
  {
   "cell_type": "code",
   "execution_count": null,
   "metadata": {},
   "outputs": [],
   "source": [
    "n = 2000\n",
    "D = np.random.randn(n)\n",
    "print(\"mu: {}, var: {}, skew: {}, kurt: {}\".format(D.mean(), D.var(), st.skew(D), st.kurtosis(D, fisher=False)))\n",
    "sns.distplot(D)"
   ]
  },
  {
   "cell_type": "code",
   "execution_count": null,
   "metadata": {},
   "outputs": [],
   "source": [
    "n = 20000\n",
    "D = np.random.randn(n)\n",
    "print(\"mu: {}, var: {}, skew: {}, kurt: {}\".format(D.mean(), D.var(), st.skew(D), st.kurtosis(D, fisher=False)))\n",
    "sns.distplot(D)"
   ]
  },
  {
   "cell_type": "code",
   "execution_count": null,
   "metadata": {},
   "outputs": [],
   "source": [
    "n = 200000\n",
    "D = np.random.randn(n)\n",
    "print(\"mu: {}, var: {}, skew: {}, kurt: {}\".format(D.mean(), D.var(), st.skew(D), st.kurtosis(D, fisher=False)))\n",
    "sns.distplot(D)"
   ]
  },
  {
   "cell_type": "code",
   "execution_count": null,
   "metadata": {},
   "outputs": [],
   "source": []
  }
 ],
 "metadata": {
  "kernelspec": {
   "display_name": "Python 3",
   "language": "python",
   "name": "python3"
  },
  "language_info": {
   "codemirror_mode": {
    "name": "ipython",
    "version": 3
   },
   "file_extension": ".py",
   "mimetype": "text/x-python",
   "name": "python",
   "nbconvert_exporter": "python",
   "pygments_lexer": "ipython3",
   "version": "3.6.4"
  }
 },
 "nbformat": 4,
 "nbformat_minor": 2
}
