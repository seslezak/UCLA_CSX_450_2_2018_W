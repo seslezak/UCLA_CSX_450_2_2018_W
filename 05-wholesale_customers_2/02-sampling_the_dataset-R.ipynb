{
 "cells": [
  {
   "cell_type": "code",
   "execution_count": 1,
   "metadata": {},
   "outputs": [],
   "source": [
    "customer_df = read.csv('Wholesale_customers_data.csv')"
   ]
  },
  {
   "cell_type": "code",
   "execution_count": 2,
   "metadata": {},
   "outputs": [],
   "source": [
    "customer_df$Channel <- NULL\n",
    "customer_df$Region <- NULL"
   ]
  },
  {
   "cell_type": "code",
   "execution_count": 3,
   "metadata": {},
   "outputs": [
    {
     "data": {
      "text/html": [
       "<ol class=list-inline>\n",
       "\t<li>440</li>\n",
       "\t<li>6</li>\n",
       "</ol>\n"
      ],
      "text/latex": [
       "\\begin{enumerate*}\n",
       "\\item 440\n",
       "\\item 6\n",
       "\\end{enumerate*}\n"
      ],
      "text/markdown": [
       "1. 440\n",
       "2. 6\n",
       "\n",
       "\n"
      ],
      "text/plain": [
       "[1] 440   6"
      ]
     },
     "metadata": {},
     "output_type": "display_data"
    }
   ],
   "source": [
    "dim(customer_df)"
   ]
  },
  {
   "cell_type": "markdown",
   "metadata": {},
   "source": [
    "In the next few notebooks, we are going to do some Unsupervised Exploration of the `customer` table in our Database.\n",
    "\n",
    "> What does a data scientist do? PCA on the `customer` table. - Joshua Cook"
   ]
  },
  {
   "cell_type": "markdown",
   "metadata": {},
   "source": [
    "# Basic Stats"
   ]
  },
  {
   "cell_type": "code",
   "execution_count": 4,
   "metadata": {},
   "outputs": [
    {
     "name": "stderr",
     "output_type": "stream",
     "text": [
      "Updating HTML index of packages in '.Library'\n",
      "Making 'packages.html' ... done\n"
     ]
    }
   ],
   "source": [
    "install.packages('moments')"
   ]
  },
  {
   "cell_type": "code",
   "execution_count": 5,
   "metadata": {},
   "outputs": [],
   "source": [
    "library(moments)"
   ]
  },
  {
   "cell_type": "code",
   "execution_count": 6,
   "metadata": {
    "scrolled": true
   },
   "outputs": [
    {
     "data": {
      "text/html": [
       "<dl class=dl-horizontal>\n",
       "\t<dt>Fresh</dt>\n",
       "\t\t<dd>2.55258268790716</dd>\n",
       "\t<dt>Milk</dt>\n",
       "\t\t<dd>4.03992212278858</dd>\n",
       "\t<dt>Grocery</dt>\n",
       "\t\t<dd>3.57518722008079</dd>\n",
       "\t<dt>Frozen</dt>\n",
       "\t\t<dd>5.88782572895779</dd>\n",
       "\t<dt>Detergents_Paper</dt>\n",
       "\t\t<dd>3.61945757831159</dd>\n",
       "\t<dt>Delicatessen</dt>\n",
       "\t\t<dd>11.1135336487091</dd>\n",
       "</dl>\n"
      ],
      "text/latex": [
       "\\begin{description*}\n",
       "\\item[Fresh] 2.55258268790716\n",
       "\\item[Milk] 4.03992212278858\n",
       "\\item[Grocery] 3.57518722008079\n",
       "\\item[Frozen] 5.88782572895779\n",
       "\\item[Detergents\\textbackslash{}\\_Paper] 3.61945757831159\n",
       "\\item[Delicatessen] 11.1135336487091\n",
       "\\end{description*}\n"
      ],
      "text/markdown": [
       "Fresh\n",
       ":   2.55258268790716Milk\n",
       ":   4.03992212278858Grocery\n",
       ":   3.57518722008079Frozen\n",
       ":   5.88782572895779Detergents_Paper\n",
       ":   3.61945757831159Delicatessen\n",
       ":   11.1135336487091\n",
       "\n"
      ],
      "text/plain": [
       "           Fresh             Milk          Grocery           Frozen \n",
       "        2.552583         4.039922         3.575187         5.887826 \n",
       "Detergents_Paper     Delicatessen \n",
       "        3.619458        11.113534 "
      ]
     },
     "metadata": {},
     "output_type": "display_data"
    }
   ],
   "source": [
    "skewness(customer_df)"
   ]
  },
  {
   "cell_type": "code",
   "execution_count": 7,
   "metadata": {},
   "outputs": [
    {
     "data": {
      "text/html": [
       "<table>\n",
       "<thead><tr><th scope=col>feature</th><th scope=col>mean_</th><th scope=col>sd_</th><th scope=col>skewness_</th></tr></thead>\n",
       "<tbody>\n",
       "\t<tr><td>Fresh           </td><td>12000.298       </td><td>12647.329       </td><td> 2.552583       </td></tr>\n",
       "\t<tr><td>Milk            </td><td> 5796.266       </td><td> 7380.377       </td><td> 4.039922       </td></tr>\n",
       "\t<tr><td>Grocery         </td><td> 7951.277       </td><td> 9503.163       </td><td> 3.575187       </td></tr>\n",
       "\t<tr><td>Frozen          </td><td> 3071.932       </td><td> 4854.673       </td><td> 5.887826       </td></tr>\n",
       "\t<tr><td>Detergents_Paper</td><td> 2881.493       </td><td> 4767.854       </td><td> 3.619458       </td></tr>\n",
       "\t<tr><td>Delicatessen    </td><td> 1524.870       </td><td> 2820.106       </td><td>11.113534       </td></tr>\n",
       "</tbody>\n",
       "</table>\n"
      ],
      "text/latex": [
       "\\begin{tabular}{r|llll}\n",
       " feature & mean\\_ & sd\\_ & skewness\\_\\\\\n",
       "\\hline\n",
       "\t Fresh            & 12000.298        & 12647.329        &  2.552583       \\\\\n",
       "\t Milk             &  5796.266        &  7380.377        &  4.039922       \\\\\n",
       "\t Grocery          &  7951.277        &  9503.163        &  3.575187       \\\\\n",
       "\t Frozen           &  3071.932        &  4854.673        &  5.887826       \\\\\n",
       "\t Detergents\\_Paper &  2881.493          &  4767.854          &  3.619458         \\\\\n",
       "\t Delicatessen     &  1524.870        &  2820.106        & 11.113534       \\\\\n",
       "\\end{tabular}\n"
      ],
      "text/markdown": [
       "\n",
       "feature | mean_ | sd_ | skewness_ | \n",
       "|---|---|---|---|---|---|\n",
       "| Fresh            | 12000.298        | 12647.329        |  2.552583        | \n",
       "| Milk             |  5796.266        |  7380.377        |  4.039922        | \n",
       "| Grocery          |  7951.277        |  9503.163        |  3.575187        | \n",
       "| Frozen           |  3071.932        |  4854.673        |  5.887826        | \n",
       "| Detergents_Paper |  2881.493        |  4767.854        |  3.619458        | \n",
       "| Delicatessen     |  1524.870        |  2820.106        | 11.113534        | \n",
       "\n",
       "\n"
      ],
      "text/plain": [
       "  feature          mean_     sd_       skewness_\n",
       "1 Fresh            12000.298 12647.329  2.552583\n",
       "2 Milk              5796.266  7380.377  4.039922\n",
       "3 Grocery           7951.277  9503.163  3.575187\n",
       "4 Frozen            3071.932  4854.673  5.887826\n",
       "5 Detergents_Paper  2881.493  4767.854  3.619458\n",
       "6 Delicatessen      1524.870  2820.106 11.113534"
      ]
     },
     "metadata": {},
     "output_type": "display_data"
    }
   ],
   "source": [
    "stats = data.frame(feature=colnames(customer_df))\n",
    "stats['mean_'] = sapply(customer_df, mean)\n",
    "stats['sd_'] = sapply(customer_df, sd)\n",
    "stats['skewness_'] = sapply(customer_df, skewness)\n",
    "stats"
   ]
  },
  {
   "cell_type": "markdown",
   "metadata": {},
   "source": [
    "# Sampling the Dataset \n",
    "\n",
    "In this notebook, we begin to explore the `customer` table by sampling the table. First, let's sample three random points and examine them. "
   ]
  },
  {
   "cell_type": "code",
   "execution_count": 8,
   "metadata": {},
   "outputs": [],
   "source": [
    "library(dplyr, warn.conflicts = FALSE)"
   ]
  },
  {
   "cell_type": "code",
   "execution_count": 9,
   "metadata": {},
   "outputs": [],
   "source": [
    "set.seed(42)"
   ]
  },
  {
   "cell_type": "code",
   "execution_count": 10,
   "metadata": {},
   "outputs": [],
   "source": [
    "sample = sample_n(customer_df, 3)"
   ]
  },
  {
   "cell_type": "code",
   "execution_count": 11,
   "metadata": {},
   "outputs": [
    {
     "data": {
      "text/html": [
       "<table>\n",
       "<thead><tr><th></th><th scope=col>Fresh</th><th scope=col>Milk</th><th scope=col>Grocery</th><th scope=col>Frozen</th><th scope=col>Detergents_Paper</th><th scope=col>Delicatessen</th></tr></thead>\n",
       "<tbody>\n",
       "\t<tr><th scope=row>403</th><td>26539</td><td>4753 </td><td>5091 </td><td>  220</td><td> 10  </td><td> 340 </td></tr>\n",
       "\t<tr><th scope=row>412</th><td> 2126</td><td>3289 </td><td>3281 </td><td> 1535</td><td>235  </td><td>4365 </td></tr>\n",
       "\t<tr><th scope=row>126</th><td>76237</td><td>3473 </td><td>7102 </td><td>16538</td><td>778  </td><td> 918 </td></tr>\n",
       "</tbody>\n",
       "</table>\n"
      ],
      "text/latex": [
       "\\begin{tabular}{r|llllll}\n",
       "  & Fresh & Milk & Grocery & Frozen & Detergents\\_Paper & Delicatessen\\\\\n",
       "\\hline\n",
       "\t403 & 26539 & 4753  & 5091  &   220 &  10   &  340 \\\\\n",
       "\t412 &  2126 & 3289  & 3281  &  1535 & 235   & 4365 \\\\\n",
       "\t126 & 76237 & 3473  & 7102  & 16538 & 778   &  918 \\\\\n",
       "\\end{tabular}\n"
      ],
      "text/markdown": [
       "\n",
       "| <!--/--> | Fresh | Milk | Grocery | Frozen | Detergents_Paper | Delicatessen | \n",
       "|---|---|---|\n",
       "| 403 | 26539 | 4753  | 5091  |   220 |  10   |  340  | \n",
       "| 412 |  2126 | 3289  | 3281  |  1535 | 235   | 4365  | \n",
       "| 126 | 76237 | 3473  | 7102  | 16538 | 778   |  918  | \n",
       "\n",
       "\n"
      ],
      "text/plain": [
       "    Fresh Milk Grocery Frozen Detergents_Paper Delicatessen\n",
       "403 26539 4753 5091      220   10               340        \n",
       "412  2126 3289 3281     1535  235              4365        \n",
       "126 76237 3473 7102    16538  778               918        "
      ]
     },
     "metadata": {},
     "output_type": "display_data"
    }
   ],
   "source": [
    "sample"
   ]
  },
  {
   "cell_type": "code",
   "execution_count": 12,
   "metadata": {},
   "outputs": [
    {
     "data": {
      "text/html": [
       "<table>\n",
       "<thead><tr><th scope=col>feature</th><th scope=col>mean_</th><th scope=col>sd_</th><th scope=col>skewness_</th></tr></thead>\n",
       "<tbody>\n",
       "\t<tr><td>Fresh           </td><td>12000.298       </td><td>12647.329       </td><td> 2.552583       </td></tr>\n",
       "\t<tr><td>Milk            </td><td> 5796.266       </td><td> 7380.377       </td><td> 4.039922       </td></tr>\n",
       "\t<tr><td>Grocery         </td><td> 7951.277       </td><td> 9503.163       </td><td> 3.575187       </td></tr>\n",
       "\t<tr><td>Frozen          </td><td> 3071.932       </td><td> 4854.673       </td><td> 5.887826       </td></tr>\n",
       "\t<tr><td>Detergents_Paper</td><td> 2881.493       </td><td> 4767.854       </td><td> 3.619458       </td></tr>\n",
       "\t<tr><td>Delicatessen    </td><td> 1524.870       </td><td> 2820.106       </td><td>11.113534       </td></tr>\n",
       "</tbody>\n",
       "</table>\n"
      ],
      "text/latex": [
       "\\begin{tabular}{r|llll}\n",
       " feature & mean\\_ & sd\\_ & skewness\\_\\\\\n",
       "\\hline\n",
       "\t Fresh            & 12000.298        & 12647.329        &  2.552583       \\\\\n",
       "\t Milk             &  5796.266        &  7380.377        &  4.039922       \\\\\n",
       "\t Grocery          &  7951.277        &  9503.163        &  3.575187       \\\\\n",
       "\t Frozen           &  3071.932        &  4854.673        &  5.887826       \\\\\n",
       "\t Detergents\\_Paper &  2881.493          &  4767.854          &  3.619458         \\\\\n",
       "\t Delicatessen     &  1524.870        &  2820.106        & 11.113534       \\\\\n",
       "\\end{tabular}\n"
      ],
      "text/markdown": [
       "\n",
       "feature | mean_ | sd_ | skewness_ | \n",
       "|---|---|---|---|---|---|\n",
       "| Fresh            | 12000.298        | 12647.329        |  2.552583        | \n",
       "| Milk             |  5796.266        |  7380.377        |  4.039922        | \n",
       "| Grocery          |  7951.277        |  9503.163        |  3.575187        | \n",
       "| Frozen           |  3071.932        |  4854.673        |  5.887826        | \n",
       "| Detergents_Paper |  2881.493        |  4767.854        |  3.619458        | \n",
       "| Delicatessen     |  1524.870        |  2820.106        | 11.113534        | \n",
       "\n",
       "\n"
      ],
      "text/plain": [
       "  feature          mean_     sd_       skewness_\n",
       "1 Fresh            12000.298 12647.329  2.552583\n",
       "2 Milk              5796.266  7380.377  4.039922\n",
       "3 Grocery           7951.277  9503.163  3.575187\n",
       "4 Frozen            3071.932  4854.673  5.887826\n",
       "5 Detergents_Paper  2881.493  4767.854  3.619458\n",
       "6 Delicatessen      1524.870  2820.106 11.113534"
      ]
     },
     "metadata": {},
     "output_type": "display_data"
    }
   ],
   "source": [
    "stats"
   ]
  },
  {
   "cell_type": "markdown",
   "metadata": {},
   "source": [
    "# Sampling for a Statistical Description\n",
    "\n",
    "We are able to take the mean and standard deviation of the data, but what if we want to visualize it? \n",
    "\n",
    "Of course, this dataset is small, but we might want techniques that work even when the dataset is very large."
   ]
  },
  {
   "cell_type": "markdown",
   "metadata": {},
   "source": [
    "Let's start by looking at 1% of the data. "
   ]
  },
  {
   "cell_type": "code",
   "execution_count": 13,
   "metadata": {},
   "outputs": [],
   "source": [
    "sample_1pct_1 = sample_n(customer_df, 5)"
   ]
  },
  {
   "cell_type": "code",
   "execution_count": 14,
   "metadata": {},
   "outputs": [
    {
     "data": {
      "text/html": [
       "<dl class=dl-horizontal>\n",
       "\t<dt>Fresh</dt>\n",
       "\t\t<dd>8781.2</dd>\n",
       "\t<dt>Milk</dt>\n",
       "\t\t<dd>3861.4</dd>\n",
       "\t<dt>Grocery</dt>\n",
       "\t\t<dd>4527.6</dd>\n",
       "\t<dt>Frozen</dt>\n",
       "\t\t<dd>1661.6</dd>\n",
       "\t<dt>Detergents_Paper</dt>\n",
       "\t\t<dd>1512.2</dd>\n",
       "\t<dt>Delicatessen</dt>\n",
       "\t\t<dd>1484.4</dd>\n",
       "</dl>\n"
      ],
      "text/latex": [
       "\\begin{description*}\n",
       "\\item[Fresh] 8781.2\n",
       "\\item[Milk] 3861.4\n",
       "\\item[Grocery] 4527.6\n",
       "\\item[Frozen] 1661.6\n",
       "\\item[Detergents\\textbackslash{}\\_Paper] 1512.2\n",
       "\\item[Delicatessen] 1484.4\n",
       "\\end{description*}\n"
      ],
      "text/markdown": [
       "Fresh\n",
       ":   8781.2Milk\n",
       ":   3861.4Grocery\n",
       ":   4527.6Frozen\n",
       ":   1661.6Detergents_Paper\n",
       ":   1512.2Delicatessen\n",
       ":   1484.4\n",
       "\n"
      ],
      "text/plain": [
       "           Fresh             Milk          Grocery           Frozen \n",
       "          8781.2           3861.4           4527.6           1661.6 \n",
       "Detergents_Paper     Delicatessen \n",
       "          1512.2           1484.4 "
      ]
     },
     "metadata": {},
     "output_type": "display_data"
    }
   ],
   "source": [
    "colMeans(sample_1pct_1)"
   ]
  },
  {
   "cell_type": "markdown",
   "metadata": {},
   "source": [
    "### How does this compare to the actual mean?"
   ]
  },
  {
   "cell_type": "code",
   "execution_count": 15,
   "metadata": {},
   "outputs": [
    {
     "data": {
      "text/html": [
       "<dl class=dl-horizontal>\n",
       "\t<dt>Fresh</dt>\n",
       "\t\t<dd>-3219.09772727273</dd>\n",
       "\t<dt>Milk</dt>\n",
       "\t\t<dd>-1934.86590909091</dd>\n",
       "\t<dt>Grocery</dt>\n",
       "\t\t<dd>-3423.67727272727</dd>\n",
       "\t<dt>Frozen</dt>\n",
       "\t\t<dd>-1410.33181818182</dd>\n",
       "\t<dt>Detergents_Paper</dt>\n",
       "\t\t<dd>-1369.29318181818</dd>\n",
       "\t<dt>Delicatessen</dt>\n",
       "\t\t<dd>-40.4704545454545</dd>\n",
       "</dl>\n"
      ],
      "text/latex": [
       "\\begin{description*}\n",
       "\\item[Fresh] -3219.09772727273\n",
       "\\item[Milk] -1934.86590909091\n",
       "\\item[Grocery] -3423.67727272727\n",
       "\\item[Frozen] -1410.33181818182\n",
       "\\item[Detergents\\textbackslash{}\\_Paper] -1369.29318181818\n",
       "\\item[Delicatessen] -40.4704545454545\n",
       "\\end{description*}\n"
      ],
      "text/markdown": [
       "Fresh\n",
       ":   -3219.09772727273Milk\n",
       ":   -1934.86590909091Grocery\n",
       ":   -3423.67727272727Frozen\n",
       ":   -1410.33181818182Detergents_Paper\n",
       ":   -1369.29318181818Delicatessen\n",
       ":   -40.4704545454545\n",
       "\n"
      ],
      "text/plain": [
       "           Fresh             Milk          Grocery           Frozen \n",
       "     -3219.09773      -1934.86591      -3423.67727      -1410.33182 \n",
       "Detergents_Paper     Delicatessen \n",
       "     -1369.29318        -40.47045 "
      ]
     },
     "metadata": {},
     "output_type": "display_data"
    }
   ],
   "source": [
    "colMeans(sample_1pct_1) - stats$mean_"
   ]
  },
  {
   "cell_type": "markdown",
   "metadata": {},
   "source": [
    "Let's think about this in terms of the standard deviations."
   ]
  },
  {
   "cell_type": "code",
   "execution_count": 16,
   "metadata": {},
   "outputs": [
    {
     "data": {
      "text/html": [
       "<dl class=dl-horizontal>\n",
       "\t<dt>Fresh</dt>\n",
       "\t\t<dd>-0.254527873957768</dd>\n",
       "\t<dt>Milk</dt>\n",
       "\t\t<dd>-0.262163553884144</dd>\n",
       "\t<dt>Grocery</dt>\n",
       "\t\t<dd>-0.360267137829267</dd>\n",
       "\t<dt>Frozen</dt>\n",
       "\t\t<dd>-0.290510137667432</dd>\n",
       "\t<dt>Detergents_Paper</dt>\n",
       "\t\t<dd>-0.287192739790972</dd>\n",
       "\t<dt>Delicatessen</dt>\n",
       "\t\t<dd>-0.0143506859118936</dd>\n",
       "</dl>\n"
      ],
      "text/latex": [
       "\\begin{description*}\n",
       "\\item[Fresh] -0.254527873957768\n",
       "\\item[Milk] -0.262163553884144\n",
       "\\item[Grocery] -0.360267137829267\n",
       "\\item[Frozen] -0.290510137667432\n",
       "\\item[Detergents\\textbackslash{}\\_Paper] -0.287192739790972\n",
       "\\item[Delicatessen] -0.0143506859118936\n",
       "\\end{description*}\n"
      ],
      "text/markdown": [
       "Fresh\n",
       ":   -0.254527873957768Milk\n",
       ":   -0.262163553884144Grocery\n",
       ":   -0.360267137829267Frozen\n",
       ":   -0.290510137667432Detergents_Paper\n",
       ":   -0.287192739790972Delicatessen\n",
       ":   -0.0143506859118936\n",
       "\n"
      ],
      "text/plain": [
       "           Fresh             Milk          Grocery           Frozen \n",
       "     -0.25452787      -0.26216355      -0.36026714      -0.29051014 \n",
       "Detergents_Paper     Delicatessen \n",
       "     -0.28719274      -0.01435069 "
      ]
     },
     "metadata": {},
     "output_type": "display_data"
    }
   ],
   "source": [
    "(colMeans(sample_1pct_1) - stats$mean_)/stats$sd_"
   ]
  },
  {
   "cell_type": "markdown",
   "metadata": {},
   "source": [
    "### Let's try it again"
   ]
  },
  {
   "cell_type": "code",
   "execution_count": 17,
   "metadata": {},
   "outputs": [],
   "source": [
    "sample_2pct_1 = sample_n(customer_df, 5)"
   ]
  },
  {
   "cell_type": "code",
   "execution_count": 18,
   "metadata": {},
   "outputs": [
    {
     "data": {
      "text/html": [
       "<dl class=dl-horizontal>\n",
       "\t<dt>Fresh</dt>\n",
       "\t\t<dd>12950</dd>\n",
       "\t<dt>Milk</dt>\n",
       "\t\t<dd>9764</dd>\n",
       "\t<dt>Grocery</dt>\n",
       "\t\t<dd>12699</dd>\n",
       "\t<dt>Frozen</dt>\n",
       "\t\t<dd>2226.2</dd>\n",
       "\t<dt>Detergents_Paper</dt>\n",
       "\t\t<dd>5115.4</dd>\n",
       "\t<dt>Delicatessen</dt>\n",
       "\t\t<dd>669</dd>\n",
       "</dl>\n"
      ],
      "text/latex": [
       "\\begin{description*}\n",
       "\\item[Fresh] 12950\n",
       "\\item[Milk] 9764\n",
       "\\item[Grocery] 12699\n",
       "\\item[Frozen] 2226.2\n",
       "\\item[Detergents\\textbackslash{}\\_Paper] 5115.4\n",
       "\\item[Delicatessen] 669\n",
       "\\end{description*}\n"
      ],
      "text/markdown": [
       "Fresh\n",
       ":   12950Milk\n",
       ":   9764Grocery\n",
       ":   12699Frozen\n",
       ":   2226.2Detergents_Paper\n",
       ":   5115.4Delicatessen\n",
       ":   669\n",
       "\n"
      ],
      "text/plain": [
       "           Fresh             Milk          Grocery           Frozen \n",
       "         12950.0           9764.0          12699.0           2226.2 \n",
       "Detergents_Paper     Delicatessen \n",
       "          5115.4            669.0 "
      ]
     },
     "metadata": {},
     "output_type": "display_data"
    }
   ],
   "source": [
    "colMeans(sample_2pct_1)"
   ]
  },
  {
   "cell_type": "markdown",
   "metadata": {},
   "source": [
    "### How does this compare to the actual mean?"
   ]
  },
  {
   "cell_type": "code",
   "execution_count": 19,
   "metadata": {},
   "outputs": [
    {
     "data": {
      "text/html": [
       "<dl class=dl-horizontal>\n",
       "\t<dt>Fresh</dt>\n",
       "\t\t<dd>949.702272727272</dd>\n",
       "\t<dt>Milk</dt>\n",
       "\t\t<dd>3967.73409090909</dd>\n",
       "\t<dt>Grocery</dt>\n",
       "\t\t<dd>4747.72272727273</dd>\n",
       "\t<dt>Frozen</dt>\n",
       "\t\t<dd>-845.731818181818</dd>\n",
       "\t<dt>Detergents_Paper</dt>\n",
       "\t\t<dd>2233.90681818182</dd>\n",
       "\t<dt>Delicatessen</dt>\n",
       "\t\t<dd>-855.870454545455</dd>\n",
       "</dl>\n"
      ],
      "text/latex": [
       "\\begin{description*}\n",
       "\\item[Fresh] 949.702272727272\n",
       "\\item[Milk] 3967.73409090909\n",
       "\\item[Grocery] 4747.72272727273\n",
       "\\item[Frozen] -845.731818181818\n",
       "\\item[Detergents\\textbackslash{}\\_Paper] 2233.90681818182\n",
       "\\item[Delicatessen] -855.870454545455\n",
       "\\end{description*}\n"
      ],
      "text/markdown": [
       "Fresh\n",
       ":   949.702272727272Milk\n",
       ":   3967.73409090909Grocery\n",
       ":   4747.72272727273Frozen\n",
       ":   -845.731818181818Detergents_Paper\n",
       ":   2233.90681818182Delicatessen\n",
       ":   -855.870454545455\n",
       "\n"
      ],
      "text/plain": [
       "           Fresh             Milk          Grocery           Frozen \n",
       "        949.7023        3967.7341        4747.7227        -845.7318 \n",
       "Detergents_Paper     Delicatessen \n",
       "       2233.9068        -855.8705 "
      ]
     },
     "metadata": {},
     "output_type": "display_data"
    }
   ],
   "source": [
    "colMeans(sample_2pct_1) - stats$mean_"
   ]
  },
  {
   "cell_type": "markdown",
   "metadata": {},
   "source": [
    "Let's think about this in terms of the standard deviations."
   ]
  },
  {
   "cell_type": "code",
   "execution_count": 20,
   "metadata": {},
   "outputs": [
    {
     "data": {
      "text/html": [
       "<dl class=dl-horizontal>\n",
       "\t<dt>Fresh</dt>\n",
       "\t\t<dd>0.0750911344884601</dd>\n",
       "\t<dt>Milk</dt>\n",
       "\t\t<dd>0.53760586987071</dd>\n",
       "\t<dt>Grocery</dt>\n",
       "\t\t<dd>0.499593957580873</dd>\n",
       "\t<dt>Frozen</dt>\n",
       "\t\t<dd>-0.174209830454277</dd>\n",
       "\t<dt>Detergents_Paper</dt>\n",
       "\t\t<dd>0.468535028195706</dd>\n",
       "\t<dt>Delicatessen</dt>\n",
       "\t\t<dd>-0.303488760193106</dd>\n",
       "</dl>\n"
      ],
      "text/latex": [
       "\\begin{description*}\n",
       "\\item[Fresh] 0.0750911344884601\n",
       "\\item[Milk] 0.53760586987071\n",
       "\\item[Grocery] 0.499593957580873\n",
       "\\item[Frozen] -0.174209830454277\n",
       "\\item[Detergents\\textbackslash{}\\_Paper] 0.468535028195706\n",
       "\\item[Delicatessen] -0.303488760193106\n",
       "\\end{description*}\n"
      ],
      "text/markdown": [
       "Fresh\n",
       ":   0.0750911344884601Milk\n",
       ":   0.53760586987071Grocery\n",
       ":   0.499593957580873Frozen\n",
       ":   -0.174209830454277Detergents_Paper\n",
       ":   0.468535028195706Delicatessen\n",
       ":   -0.303488760193106\n",
       "\n"
      ],
      "text/plain": [
       "           Fresh             Milk          Grocery           Frozen \n",
       "      0.07509113       0.53760587       0.49959396      -0.17420983 \n",
       "Detergents_Paper     Delicatessen \n",
       "      0.46853503      -0.30348876 "
      ]
     },
     "metadata": {},
     "output_type": "display_data"
    }
   ],
   "source": [
    "(colMeans(sample_2pct_1) - stats$mean_)/stats$sd_"
   ]
  },
  {
   "cell_type": "markdown",
   "metadata": {},
   "source": [
    "### How does it do?"
   ]
  },
  {
   "cell_type": "markdown",
   "metadata": {},
   "source": []
  },
  {
   "cell_type": "markdown",
   "metadata": {
    "collapsed": true
   },
   "source": [
    "### Repeatedly Sample"
   ]
  },
  {
   "cell_type": "markdown",
   "metadata": {},
   "source": [
    "Let's do it 10 times."
   ]
  },
  {
   "cell_type": "code",
   "execution_count": 22,
   "metadata": {},
   "outputs": [],
   "source": [
    "sample_means = colMeans(sample_n(customer_df, 5))"
   ]
  },
  {
   "cell_type": "code",
   "execution_count": 23,
   "metadata": {},
   "outputs": [],
   "source": [
    "for (i in 1:9) {\n",
    "    sample_means = (sample_means*(i) + colMeans(sample_n(customer_df, 5)))/(i+1)\n",
    "}"
   ]
  },
  {
   "cell_type": "code",
   "execution_count": 24,
   "metadata": {
    "scrolled": true
   },
   "outputs": [
    {
     "data": {
      "text/html": [
       "<dl class=dl-horizontal>\n",
       "\t<dt>Fresh</dt>\n",
       "\t\t<dd>9542.72</dd>\n",
       "\t<dt>Milk</dt>\n",
       "\t\t<dd>4965.72</dd>\n",
       "\t<dt>Grocery</dt>\n",
       "\t\t<dd>6566.54</dd>\n",
       "\t<dt>Frozen</dt>\n",
       "\t\t<dd>2638.18</dd>\n",
       "\t<dt>Detergents_Paper</dt>\n",
       "\t\t<dd>2332.12</dd>\n",
       "\t<dt>Delicatessen</dt>\n",
       "\t\t<dd>1247.68</dd>\n",
       "</dl>\n"
      ],
      "text/latex": [
       "\\begin{description*}\n",
       "\\item[Fresh] 9542.72\n",
       "\\item[Milk] 4965.72\n",
       "\\item[Grocery] 6566.54\n",
       "\\item[Frozen] 2638.18\n",
       "\\item[Detergents\\textbackslash{}\\_Paper] 2332.12\n",
       "\\item[Delicatessen] 1247.68\n",
       "\\end{description*}\n"
      ],
      "text/markdown": [
       "Fresh\n",
       ":   9542.72Milk\n",
       ":   4965.72Grocery\n",
       ":   6566.54Frozen\n",
       ":   2638.18Detergents_Paper\n",
       ":   2332.12Delicatessen\n",
       ":   1247.68\n",
       "\n"
      ],
      "text/plain": [
       "           Fresh             Milk          Grocery           Frozen \n",
       "         9542.72          4965.72          6566.54          2638.18 \n",
       "Detergents_Paper     Delicatessen \n",
       "         2332.12          1247.68 "
      ]
     },
     "metadata": {},
     "output_type": "display_data"
    }
   ],
   "source": [
    "sample_means"
   ]
  },
  {
   "cell_type": "code",
   "execution_count": 25,
   "metadata": {},
   "outputs": [
    {
     "data": {
      "text/html": [
       "<dl class=dl-horizontal>\n",
       "\t<dt>Fresh</dt>\n",
       "\t\t<dd>-0.194315950307803</dd>\n",
       "\t<dt>Milk</dt>\n",
       "\t\t<dd>-0.112534344715141</dd>\n",
       "\t<dt>Grocery</dt>\n",
       "\t\t<dd>-0.145713305942987</dd>\n",
       "\t<dt>Frozen</dt>\n",
       "\t\t<dd>-0.0893472718894965</dd>\n",
       "\t<dt>Detergents_Paper</dt>\n",
       "\t\t<dd>-0.11522440288832</dd>\n",
       "\t<dt>Delicatessen</dt>\n",
       "\t\t<dd>-0.0982907949919139</dd>\n",
       "</dl>\n"
      ],
      "text/latex": [
       "\\begin{description*}\n",
       "\\item[Fresh] -0.194315950307803\n",
       "\\item[Milk] -0.112534344715141\n",
       "\\item[Grocery] -0.145713305942987\n",
       "\\item[Frozen] -0.0893472718894965\n",
       "\\item[Detergents\\textbackslash{}\\_Paper] -0.11522440288832\n",
       "\\item[Delicatessen] -0.0982907949919139\n",
       "\\end{description*}\n"
      ],
      "text/markdown": [
       "Fresh\n",
       ":   -0.194315950307803Milk\n",
       ":   -0.112534344715141Grocery\n",
       ":   -0.145713305942987Frozen\n",
       ":   -0.0893472718894965Detergents_Paper\n",
       ":   -0.11522440288832Delicatessen\n",
       ":   -0.0982907949919139\n",
       "\n"
      ],
      "text/plain": [
       "           Fresh             Milk          Grocery           Frozen \n",
       "     -0.19431595      -0.11253434      -0.14571331      -0.08934727 \n",
       "Detergents_Paper     Delicatessen \n",
       "     -0.11522440      -0.09829079 "
      ]
     },
     "metadata": {},
     "output_type": "display_data"
    }
   ],
   "source": [
    "(sample_means-stats$mean_)/stats$sd_"
   ]
  },
  {
   "cell_type": "markdown",
   "metadata": {},
   "source": [
    "And 50 times."
   ]
  },
  {
   "cell_type": "code",
   "execution_count": 26,
   "metadata": {},
   "outputs": [],
   "source": [
    "sample_means = colMeans(sample_n(customer_df, 5))"
   ]
  },
  {
   "cell_type": "code",
   "execution_count": 27,
   "metadata": {},
   "outputs": [],
   "source": [
    "for (i in 1:49) {\n",
    "    sample_means = (sample_means*(i) + colMeans(sample_n(customer_df, 5)))/(i+1)\n",
    "}"
   ]
  },
  {
   "cell_type": "code",
   "execution_count": 28,
   "metadata": {},
   "outputs": [
    {
     "data": {
      "text/html": [
       "<dl class=dl-horizontal>\n",
       "\t<dt>Fresh</dt>\n",
       "\t\t<dd>-0.0129280837888404</dd>\n",
       "\t<dt>Milk</dt>\n",
       "\t\t<dd>0.252463803249654</dd>\n",
       "\t<dt>Grocery</dt>\n",
       "\t\t<dd>0.197934809822866</dd>\n",
       "\t<dt>Frozen</dt>\n",
       "\t\t<dd>-0.0812560992587268</dd>\n",
       "\t<dt>Detergents_Paper</dt>\n",
       "\t\t<dd>0.221894948711546</dd>\n",
       "\t<dt>Delicatessen</dt>\n",
       "\t\t<dd>-0.00472409719398075</dd>\n",
       "</dl>\n"
      ],
      "text/latex": [
       "\\begin{description*}\n",
       "\\item[Fresh] -0.0129280837888404\n",
       "\\item[Milk] 0.252463803249654\n",
       "\\item[Grocery] 0.197934809822866\n",
       "\\item[Frozen] -0.0812560992587268\n",
       "\\item[Detergents\\textbackslash{}\\_Paper] 0.221894948711546\n",
       "\\item[Delicatessen] -0.00472409719398075\n",
       "\\end{description*}\n"
      ],
      "text/markdown": [
       "Fresh\n",
       ":   -0.0129280837888404Milk\n",
       ":   0.252463803249654Grocery\n",
       ":   0.197934809822866Frozen\n",
       ":   -0.0812560992587268Detergents_Paper\n",
       ":   0.221894948711546Delicatessen\n",
       ":   -0.00472409719398075\n",
       "\n"
      ],
      "text/plain": [
       "           Fresh             Milk          Grocery           Frozen \n",
       "    -0.012928084      0.252463803      0.197934810     -0.081256099 \n",
       "Detergents_Paper     Delicatessen \n",
       "     0.221894949     -0.004724097 "
      ]
     },
     "metadata": {},
     "output_type": "display_data"
    }
   ],
   "source": [
    "(sample_means-stats$mean_)/stats$sd_"
   ]
  },
  {
   "cell_type": "markdown",
   "metadata": {},
   "source": [
    "And 100 times."
   ]
  },
  {
   "cell_type": "code",
   "execution_count": 29,
   "metadata": {},
   "outputs": [
    {
     "data": {
      "text/html": [
       "<dl class=dl-horizontal>\n",
       "\t<dt>Fresh</dt>\n",
       "\t\t<dd>-0.054904061931223</dd>\n",
       "\t<dt>Milk</dt>\n",
       "\t\t<dd>-0.0252100813671119</dd>\n",
       "\t<dt>Grocery</dt>\n",
       "\t\t<dd>-0.0186532921635766</dd>\n",
       "\t<dt>Frozen</dt>\n",
       "\t\t<dd>-0.0505108791843005</dd>\n",
       "\t<dt>Detergents_Paper</dt>\n",
       "\t\t<dd>-0.00501382373966734</dd>\n",
       "\t<dt>Delicatessen</dt>\n",
       "\t\t<dd>-0.0258240137650246</dd>\n",
       "</dl>\n"
      ],
      "text/latex": [
       "\\begin{description*}\n",
       "\\item[Fresh] -0.054904061931223\n",
       "\\item[Milk] -0.0252100813671119\n",
       "\\item[Grocery] -0.0186532921635766\n",
       "\\item[Frozen] -0.0505108791843005\n",
       "\\item[Detergents\\textbackslash{}\\_Paper] -0.00501382373966734\n",
       "\\item[Delicatessen] -0.0258240137650246\n",
       "\\end{description*}\n"
      ],
      "text/markdown": [
       "Fresh\n",
       ":   -0.054904061931223Milk\n",
       ":   -0.0252100813671119Grocery\n",
       ":   -0.0186532921635766Frozen\n",
       ":   -0.0505108791843005Detergents_Paper\n",
       ":   -0.00501382373966734Delicatessen\n",
       ":   -0.0258240137650246\n",
       "\n"
      ],
      "text/plain": [
       "           Fresh             Milk          Grocery           Frozen \n",
       "    -0.054904062     -0.025210081     -0.018653292     -0.050510879 \n",
       "Detergents_Paper     Delicatessen \n",
       "    -0.005013824     -0.025824014 "
      ]
     },
     "metadata": {},
     "output_type": "display_data"
    }
   ],
   "source": [
    "sample_means = colMeans(sample_n(customer_df, 5))\n",
    "\n",
    "for (i in 1:99) {\n",
    "    sample_means = (sample_means*(i) + colMeans(sample_n(customer_df, 5)))/(i+1)\n",
    "}\n",
    "\n",
    "(sample_means-stats$mean_)/stats$sd_"
   ]
  },
  {
   "cell_type": "markdown",
   "metadata": {},
   "source": [
    "### What do we notice?"
   ]
  },
  {
   "cell_type": "markdown",
   "metadata": {},
   "source": [
    "### Take a larger sample"
   ]
  },
  {
   "cell_type": "markdown",
   "metadata": {},
   "source": [
    "Totally different. Which makes sense ... we're only taking 1% of the data!\n",
    "\n",
    "What if we take a sample of 10% of the data?"
   ]
  },
  {
   "cell_type": "code",
   "execution_count": 30,
   "metadata": {},
   "outputs": [
    {
     "data": {
      "text/html": [
       "<dl class=dl-horizontal>\n",
       "\t<dt>Fresh</dt>\n",
       "\t\t<dd>0.195860437414292</dd>\n",
       "\t<dt>Milk</dt>\n",
       "\t\t<dd>0.112027102839138</dd>\n",
       "\t<dt>Grocery</dt>\n",
       "\t\t<dd>0.0992439922532215</dd>\n",
       "\t<dt>Frozen</dt>\n",
       "\t\t<dd>0.0582381662694281</dd>\n",
       "\t<dt>Detergents_Paper</dt>\n",
       "\t\t<dd>0.0999606285133609</dd>\n",
       "\t<dt>Delicatessen</dt>\n",
       "\t\t<dd>0.107206643162884</dd>\n",
       "</dl>\n"
      ],
      "text/latex": [
       "\\begin{description*}\n",
       "\\item[Fresh] 0.195860437414292\n",
       "\\item[Milk] 0.112027102839138\n",
       "\\item[Grocery] 0.0992439922532215\n",
       "\\item[Frozen] 0.0582381662694281\n",
       "\\item[Detergents\\textbackslash{}\\_Paper] 0.0999606285133609\n",
       "\\item[Delicatessen] 0.107206643162884\n",
       "\\end{description*}\n"
      ],
      "text/markdown": [
       "Fresh\n",
       ":   0.195860437414292Milk\n",
       ":   0.112027102839138Grocery\n",
       ":   0.0992439922532215Frozen\n",
       ":   0.0582381662694281Detergents_Paper\n",
       ":   0.0999606285133609Delicatessen\n",
       ":   0.107206643162884\n",
       "\n"
      ],
      "text/plain": [
       "           Fresh             Milk          Grocery           Frozen \n",
       "      0.19586044       0.11202710       0.09924399       0.05823817 \n",
       "Detergents_Paper     Delicatessen \n",
       "      0.09996063       0.10720664 "
      ]
     },
     "metadata": {},
     "output_type": "display_data"
    }
   ],
   "source": [
    "sample_means = colMeans(sample_n(customer_df, 44))\n",
    "\n",
    "(sample_means-stats$mean_)/stats$sd_"
   ]
  },
  {
   "cell_type": "markdown",
   "metadata": {},
   "source": [
    "### Is this sample good enough for plotting?"
   ]
  },
  {
   "cell_type": "markdown",
   "metadata": {},
   "source": [
    "https://stats.stackexchange.com/questions/2541/is-there-a-reference-that-suggest-using-30-as-a-large-enough-sample-size"
   ]
  },
  {
   "cell_type": "markdown",
   "metadata": {},
   "source": []
  },
  {
   "cell_type": "code",
   "execution_count": 31,
   "metadata": {
    "scrolled": false
   },
   "outputs": [
    {
     "data": {
      "image/png": "[encoded data removed]",
      "text/plain": [
       "plot without title"
      ]
     },
     "metadata": {},
     "output_type": "display_data"
    }
   ],
   "source": [
    "pairs(sample_n(customer_df, 44))"
   ]
  },
  {
   "cell_type": "code",
   "execution_count": null,
   "metadata": {},
   "outputs": [],
   "source": []
  }
 ],
 "metadata": {
  "kernelspec": {
   "display_name": "R",
   "language": "R",
   "name": "ir"
  },
  "language_info": {
   "codemirror_mode": "r",
   "file_extension": ".r",
   "mimetype": "text/x-r-source",
   "name": "R",
   "pygments_lexer": "r",
   "version": "3.4.1"
  }
 },
 "nbformat": 4,
 "nbformat_minor": 2
}
