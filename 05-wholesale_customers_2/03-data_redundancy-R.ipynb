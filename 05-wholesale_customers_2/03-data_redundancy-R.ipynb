{
 "cells": [
  {
   "cell_type": "code",
   "execution_count": null,
   "metadata": {},
   "outputs": [],
   "source": [
    "customer_df <- read.csv('Wholesale_customers_data.csv')\n",
    "customer_df$Channel <- NULL\n",
    "customer_df$Region <- NULL\n",
    "dim(customer_df)"
   ]
  },
  {
   "cell_type": "markdown",
   "metadata": {},
   "source": [
    "# Correlation and Redundancy\n",
    "\n",
    "I claim that there is correlation and redundancy in the `customer` table. What I mean by this is that some features are linear combinations of other features. "
   ]
  },
  {
   "cell_type": "markdown",
   "metadata": {},
   "source": [
    "Let's examine redundancy by dropping a feature and seeing if the other features can predict it."
   ]
  },
  {
   "cell_type": "code",
   "execution_count": null,
   "metadata": {},
   "outputs": [],
   "source": [
    "install.packages('rpart')"
   ]
  },
  {
   "cell_type": "code",
   "execution_count": null,
   "metadata": {},
   "outputs": [],
   "source": [
    "library(caret)\n",
    "library(rpart)"
   ]
  },
  {
   "cell_type": "code",
   "execution_count": null,
   "metadata": {},
   "outputs": [],
   "source": [
    "calculate_r_2 <- function(actual, prediction) {\n",
    "    return (1 - (sum((actual-prediction)^2)/sum((actual-mean(actual))^2)))\n",
    "}\n",
    "\n",
    "calculate_r_2_for_feature <- function(data, feature) {\n",
    "    n <- nrow(data)\n",
    "    \n",
    "    train_index <- sample(seq_len(n), size = 0.8*n)\n",
    "\n",
    "    train <- data[train_index,]\n",
    "    test <- data[-train_index,]\n",
    "    \n",
    "    this_formula = paste(feature,\"~.\")\n",
    "    fit <- rpart(data=train, formula=as.formula(this_formula))\n",
    "\n",
    "    y_test <- as.vector(test[[feature]])\n",
    "    test[feature] <- NULL\n",
    "    predictions <- predict(fit, test)\n",
    "    return (calculate_r_2(y_test, predictions))\n",
    "}"
   ]
  },
  {
   "cell_type": "code",
   "execution_count": null,
   "metadata": {},
   "outputs": [],
   "source": [
    "calculate_r_2_for_feature(customer_df,'Detergents_Paper')"
   ]
  },
  {
   "cell_type": "code",
   "execution_count": null,
   "metadata": {},
   "outputs": [],
   "source": [
    "print(paste(\"Delicatessen: \", calculate_r_2_for_feature(customer_df,'Delicatessen')))\n",
    "print(paste(\"Degergents_paper: \", calculate_r_2_for_feature(customer_df,'Detergents_Paper')))\n",
    "print(paste(\"Fresh: \", calculate_r_2_for_feature(customer_df,'Fresh')))\n",
    "print(paste(\"Frozen: \", calculate_r_2_for_feature(customer_df,'Frozen')))\n",
    "print(paste(\"Grocery: \", calculate_r_2_for_feature(customer_df,'Grocery')))\n",
    "print(paste(\"Milk: \", calculate_r_2_for_feature(customer_df,'Milk')))"
   ]
  },
  {
   "cell_type": "markdown",
   "metadata": {},
   "source": [
    "But this is subject to randomness. There is randomness in my `train_test_split`. Let's do the whole thing many times and take the average. "
   ]
  },
  {
   "cell_type": "code",
   "execution_count": null,
   "metadata": {},
   "outputs": [],
   "source": [
    "mean_r2_for_feature <- function (data, feature) {\n",
    "    scores = c()\n",
    "    for (i in 1:100) {\n",
    "        scores = c(scores, calculate_r_2_for_feature(data, feature))\n",
    "    }\n",
    "    \n",
    "    return (mean(scores))\n",
    "}"
   ]
  },
  {
   "cell_type": "code",
   "execution_count": null,
   "metadata": {},
   "outputs": [],
   "source": [
    "print(paste(\"Delicatessen: \", mean_r2_for_feature(customer_df,'Delicatessen')))\n",
    "print(paste(\"Detergents_Paper: \", mean_r2_for_feature(customer_df,'Detergents_Paper')))\n",
    "print(paste(\"Fresh: \", mean_r2_for_feature(customer_df,'Fresh')))\n",
    "print(paste(\"Frozen: \", mean_r2_for_feature(customer_df,'Frozen')))\n",
    "print(paste(\"Grocery: \", mean_r2_for_feature(customer_df,'Grocery')))\n",
    "print(paste(\"Milk: \", mean_r2_for_feature(customer_df,'Milk')))"
   ]
  },
  {
   "cell_type": "code",
   "execution_count": null,
   "metadata": {},
   "outputs": [],
   "source": [
    "print(paste(\"Delicatessen: \", mean_r2_for_feature(customer_df,'Delicatessen')))\n",
    "print(paste(\"Detergents_Paper: \", mean_r2_for_feature(customer_df,'Detergents_Paper')))\n",
    "print(paste(\"Fresh: \", mean_r2_for_feature(customer_df,'Fresh')))\n",
    "print(paste(\"Frozen: \", mean_r2_for_feature(customer_df,'Frozen')))\n",
    "print(paste(\"Grocery: \", mean_r2_for_feature(customer_df,'Grocery')))\n",
    "print(paste(\"Milk: \", mean_r2_for_feature(customer_df,'Milk')))"
   ]
  },
  {
   "cell_type": "markdown",
   "metadata": {},
   "source": [
    "#### Discussion\n",
    "\n",
    "What does this tell us?"
   ]
  },
  {
   "cell_type": "code",
   "execution_count": null,
   "metadata": {},
   "outputs": [],
   "source": []
  },
  {
   "cell_type": "markdown",
   "metadata": {},
   "source": [
    "## Visualize Redundancy"
   ]
  },
  {
   "cell_type": "markdown",
   "metadata": {},
   "source": [
    "Study the correlation of the data."
   ]
  },
  {
   "cell_type": "code",
   "execution_count": null,
   "metadata": {},
   "outputs": [],
   "source": [
    "pairs(customer_df)"
   ]
  },
  {
   "cell_type": "code",
   "execution_count": null,
   "metadata": {},
   "outputs": [],
   "source": [
    "cor(customer_df)"
   ]
  },
  {
   "cell_type": "code",
   "execution_count": null,
   "metadata": {},
   "outputs": [],
   "source": [
    "library(reshape2)\n",
    "cormat = cor(customer_df)"
   ]
  },
  {
   "cell_type": "code",
   "execution_count": null,
   "metadata": {},
   "outputs": [],
   "source": [
    "cormat[lower.tri(cormat)] <- NA"
   ]
  },
  {
   "cell_type": "code",
   "execution_count": null,
   "metadata": {},
   "outputs": [],
   "source": [
    "melted_cormat <- melt(cormat, na.rm = T)"
   ]
  },
  {
   "cell_type": "code",
   "execution_count": null,
   "metadata": {},
   "outputs": [],
   "source": [
    "library(ggplot2)\n",
    "ggplot(data = melted_cormat, aes(Var2, Var1, fill = value))+\n",
    " geom_tile(color = \"white\")+\n",
    " scale_fill_gradient2(low = \"blue\", high = \"red\", mid = \"white\", \n",
    "   midpoint = 0, limit = c(-1,1), space = \"Lab\", \n",
    "   name=\"Pearson\\nCorrelation\") +\n",
    "  theme_minimal()+ \n",
    " theme(axis.text.x = element_text(angle = 45, vjust = 1, \n",
    "    size = 12, hjust = 1))+\n",
    " coord_fixed()"
   ]
  },
  {
   "cell_type": "code",
   "execution_count": null,
   "metadata": {},
   "outputs": [],
   "source": []
  }
 ],
 "metadata": {
  "kernelspec": {
   "display_name": "R",
   "language": "R",
   "name": "ir"
  },
  "language_info": {
   "codemirror_mode": "r",
   "file_extension": ".r",
   "mimetype": "text/x-r-source",
   "name": "R",
   "pygments_lexer": "r",
   "version": "3.3.2"
  }
 },
 "nbformat": 4,
 "nbformat_minor": 2
}
