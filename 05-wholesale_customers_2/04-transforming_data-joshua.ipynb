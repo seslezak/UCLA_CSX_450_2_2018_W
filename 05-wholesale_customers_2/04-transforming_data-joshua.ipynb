{
 "cells": [
  {
   "cell_type": "code",
   "execution_count": 1,
   "metadata": {},
   "outputs": [],
   "source": [
    "import matplotlib.pyplot as plt\n",
    "import pandas as pd\n",
    "import numpy as np\n",
    "import seaborn as sns\n",
    "import scipy.stats as st\n",
    "\n",
    "from IPython.display import display\n",
    "%matplotlib inline"
   ]
  },
  {
   "cell_type": "code",
   "execution_count": 2,
   "metadata": {},
   "outputs": [],
   "source": [
    "customer_df = pd.read_csv('Wholesale_customers_data.csv')\n",
    "customer_df.drop(['Channel', 'Region'], axis=1, inplace=True)"
   ]
  },
  {
   "cell_type": "code",
   "execution_count": 3,
   "metadata": {},
   "outputs": [],
   "source": [
    "customer_samp_df = customer_df.sample(5)"
   ]
  },
  {
   "cell_type": "code",
   "execution_count": 4,
   "metadata": {},
   "outputs": [
    {
     "data": {
      "text/html": [
       "<div>\n",
       "<style scoped>\n",
       "    .dataframe tbody tr th:only-of-type {\n",
       "        vertical-align: middle;\n",
       "    }\n",
       "\n",
       "    .dataframe tbody tr th {\n",
       "        vertical-align: top;\n",
       "    }\n",
       "\n",
       "    .dataframe thead th {\n",
       "        text-align: right;\n",
       "    }\n",
       "</style>\n",
       "<table border=\"1\" class=\"dataframe\">\n",
       "  <thead>\n",
       "    <tr style=\"text-align: right;\">\n",
       "      <th></th>\n",
       "      <th>count</th>\n",
       "      <th>mean</th>\n",
       "      <th>std</th>\n",
       "      <th>min</th>\n",
       "      <th>25%</th>\n",
       "      <th>50%</th>\n",
       "      <th>75%</th>\n",
       "      <th>max</th>\n",
       "      <th>skew</th>\n",
       "      <th>kurt</th>\n",
       "    </tr>\n",
       "  </thead>\n",
       "  <tbody>\n",
       "    <tr>\n",
       "      <th>Fresh</th>\n",
       "      <td>5.0</td>\n",
       "      <td>25363.0</td>\n",
       "      <td>20885.855441</td>\n",
       "      <td>2344.0</td>\n",
       "      <td>3191.0</td>\n",
       "      <td>36847.0</td>\n",
       "      <td>38793.0</td>\n",
       "      <td>45640.0</td>\n",
       "      <td>-0.332037</td>\n",
       "      <td>-1.782416</td>\n",
       "    </tr>\n",
       "    <tr>\n",
       "      <th>Milk</th>\n",
       "      <td>5.0</td>\n",
       "      <td>13346.6</td>\n",
       "      <td>17444.892198</td>\n",
       "      <td>1993.0</td>\n",
       "      <td>3154.0</td>\n",
       "      <td>6958.0</td>\n",
       "      <td>10678.0</td>\n",
       "      <td>43950.0</td>\n",
       "      <td>1.361503</td>\n",
       "      <td>0.058031</td>\n",
       "    </tr>\n",
       "    <tr>\n",
       "      <th>Grocery</th>\n",
       "      <td>5.0</td>\n",
       "      <td>6996.2</td>\n",
       "      <td>7578.192608</td>\n",
       "      <td>1799.0</td>\n",
       "      <td>2648.0</td>\n",
       "      <td>3828.0</td>\n",
       "      <td>6536.0</td>\n",
       "      <td>20170.0</td>\n",
       "      <td>1.304912</td>\n",
       "      <td>-0.033595</td>\n",
       "    </tr>\n",
       "    <tr>\n",
       "      <th>Frozen</th>\n",
       "      <td>5.0</td>\n",
       "      <td>9621.0</td>\n",
       "      <td>15267.081843</td>\n",
       "      <td>1034.0</td>\n",
       "      <td>1439.0</td>\n",
       "      <td>1730.0</td>\n",
       "      <td>7368.0</td>\n",
       "      <td>36534.0</td>\n",
       "      <td>1.398884</td>\n",
       "      <td>0.097192</td>\n",
       "    </tr>\n",
       "    <tr>\n",
       "      <th>Detergents_Paper</th>\n",
       "      <td>5.0</td>\n",
       "      <td>733.4</td>\n",
       "      <td>746.842554</td>\n",
       "      <td>96.0</td>\n",
       "      <td>234.0</td>\n",
       "      <td>239.0</td>\n",
       "      <td>1532.0</td>\n",
       "      <td>1566.0</td>\n",
       "      <td>0.390599</td>\n",
       "      <td>-1.820452</td>\n",
       "    </tr>\n",
       "    <tr>\n",
       "      <th>Delicatessen</th>\n",
       "      <td>5.0</td>\n",
       "      <td>10123.0</td>\n",
       "      <td>21145.302481</td>\n",
       "      <td>230.0</td>\n",
       "      <td>490.0</td>\n",
       "      <td>710.0</td>\n",
       "      <td>1242.0</td>\n",
       "      <td>47943.0</td>\n",
       "      <td>1.498840</td>\n",
       "      <td>0.248444</td>\n",
       "    </tr>\n",
       "  </tbody>\n",
       "</table>\n",
       "</div>"
      ],
      "text/plain": [
       "                  count     mean           std     min     25%      50%  \\\n",
       "Fresh               5.0  25363.0  20885.855441  2344.0  3191.0  36847.0   \n",
       "Milk                5.0  13346.6  17444.892198  1993.0  3154.0   6958.0   \n",
       "Grocery             5.0   6996.2   7578.192608  1799.0  2648.0   3828.0   \n",
       "Frozen              5.0   9621.0  15267.081843  1034.0  1439.0   1730.0   \n",
       "Detergents_Paper    5.0    733.4    746.842554    96.0   234.0    239.0   \n",
       "Delicatessen        5.0  10123.0  21145.302481   230.0   490.0    710.0   \n",
       "\n",
       "                      75%      max      skew      kurt  \n",
       "Fresh             38793.0  45640.0 -0.332037 -1.782416  \n",
       "Milk              10678.0  43950.0  1.361503  0.058031  \n",
       "Grocery            6536.0  20170.0  1.304912 -0.033595  \n",
       "Frozen             7368.0  36534.0  1.398884  0.097192  \n",
       "Detergents_Paper   1532.0   1566.0  0.390599 -1.820452  \n",
       "Delicatessen       1242.0  47943.0  1.498840  0.248444  "
      ]
     },
     "execution_count": 4,
     "metadata": {},
     "output_type": "execute_result"
    }
   ],
   "source": [
    "samp_stats = customer_samp_df.describe().T\n",
    "samp_stats['skew'] = st.skew(customer_samp_df)\n",
    "samp_stats['kurt'] = st.kurtosis(customer_samp_df)\n",
    "samp_stats"
   ]
  },
  {
   "cell_type": "code",
   "execution_count": 5,
   "metadata": {},
   "outputs": [
    {
     "data": {
      "text/html": [
       "<div>\n",
       "<style scoped>\n",
       "    .dataframe tbody tr th:only-of-type {\n",
       "        vertical-align: middle;\n",
       "    }\n",
       "\n",
       "    .dataframe tbody tr th {\n",
       "        vertical-align: top;\n",
       "    }\n",
       "\n",
       "    .dataframe thead th {\n",
       "        text-align: right;\n",
       "    }\n",
       "</style>\n",
       "<table border=\"1\" class=\"dataframe\">\n",
       "  <thead>\n",
       "    <tr style=\"text-align: right;\">\n",
       "      <th></th>\n",
       "      <th>count</th>\n",
       "      <th>mean</th>\n",
       "      <th>std</th>\n",
       "      <th>min</th>\n",
       "      <th>25%</th>\n",
       "      <th>50%</th>\n",
       "      <th>75%</th>\n",
       "      <th>max</th>\n",
       "      <th>skew</th>\n",
       "      <th>kurt</th>\n",
       "    </tr>\n",
       "  </thead>\n",
       "  <tbody>\n",
       "    <tr>\n",
       "      <th>Fresh</th>\n",
       "      <td>440.0</td>\n",
       "      <td>12000.297727</td>\n",
       "      <td>12647.328865</td>\n",
       "      <td>3.0</td>\n",
       "      <td>3127.75</td>\n",
       "      <td>8504.0</td>\n",
       "      <td>16933.75</td>\n",
       "      <td>112151.0</td>\n",
       "      <td>2.552583</td>\n",
       "      <td>11.392124</td>\n",
       "    </tr>\n",
       "    <tr>\n",
       "      <th>Milk</th>\n",
       "      <td>440.0</td>\n",
       "      <td>5796.265909</td>\n",
       "      <td>7380.377175</td>\n",
       "      <td>55.0</td>\n",
       "      <td>1533.00</td>\n",
       "      <td>3627.0</td>\n",
       "      <td>7190.25</td>\n",
       "      <td>73498.0</td>\n",
       "      <td>4.039922</td>\n",
       "      <td>24.376349</td>\n",
       "    </tr>\n",
       "    <tr>\n",
       "      <th>Grocery</th>\n",
       "      <td>440.0</td>\n",
       "      <td>7951.277273</td>\n",
       "      <td>9503.162829</td>\n",
       "      <td>3.0</td>\n",
       "      <td>2153.00</td>\n",
       "      <td>4755.5</td>\n",
       "      <td>10655.75</td>\n",
       "      <td>92780.0</td>\n",
       "      <td>3.575187</td>\n",
       "      <td>20.664153</td>\n",
       "    </tr>\n",
       "    <tr>\n",
       "      <th>Frozen</th>\n",
       "      <td>440.0</td>\n",
       "      <td>3071.931818</td>\n",
       "      <td>4854.673333</td>\n",
       "      <td>25.0</td>\n",
       "      <td>742.25</td>\n",
       "      <td>1526.0</td>\n",
       "      <td>3554.25</td>\n",
       "      <td>60869.0</td>\n",
       "      <td>5.887826</td>\n",
       "      <td>54.056180</td>\n",
       "    </tr>\n",
       "    <tr>\n",
       "      <th>Detergents_Paper</th>\n",
       "      <td>440.0</td>\n",
       "      <td>2881.493182</td>\n",
       "      <td>4767.854448</td>\n",
       "      <td>3.0</td>\n",
       "      <td>256.75</td>\n",
       "      <td>816.5</td>\n",
       "      <td>3922.00</td>\n",
       "      <td>40827.0</td>\n",
       "      <td>3.619458</td>\n",
       "      <td>18.780528</td>\n",
       "    </tr>\n",
       "    <tr>\n",
       "      <th>Delicatessen</th>\n",
       "      <td>440.0</td>\n",
       "      <td>1524.870455</td>\n",
       "      <td>2820.105937</td>\n",
       "      <td>3.0</td>\n",
       "      <td>408.25</td>\n",
       "      <td>965.5</td>\n",
       "      <td>1820.25</td>\n",
       "      <td>47943.0</td>\n",
       "      <td>11.113534</td>\n",
       "      <td>168.747781</td>\n",
       "    </tr>\n",
       "  </tbody>\n",
       "</table>\n",
       "</div>"
      ],
      "text/plain": [
       "                  count          mean           std   min      25%     50%  \\\n",
       "Fresh             440.0  12000.297727  12647.328865   3.0  3127.75  8504.0   \n",
       "Milk              440.0   5796.265909   7380.377175  55.0  1533.00  3627.0   \n",
       "Grocery           440.0   7951.277273   9503.162829   3.0  2153.00  4755.5   \n",
       "Frozen            440.0   3071.931818   4854.673333  25.0   742.25  1526.0   \n",
       "Detergents_Paper  440.0   2881.493182   4767.854448   3.0   256.75   816.5   \n",
       "Delicatessen      440.0   1524.870455   2820.105937   3.0   408.25   965.5   \n",
       "\n",
       "                       75%       max       skew        kurt  \n",
       "Fresh             16933.75  112151.0   2.552583   11.392124  \n",
       "Milk               7190.25   73498.0   4.039922   24.376349  \n",
       "Grocery           10655.75   92780.0   3.575187   20.664153  \n",
       "Frozen             3554.25   60869.0   5.887826   54.056180  \n",
       "Detergents_Paper   3922.00   40827.0   3.619458   18.780528  \n",
       "Delicatessen       1820.25   47943.0  11.113534  168.747781  "
      ]
     },
     "execution_count": 5,
     "metadata": {},
     "output_type": "execute_result"
    }
   ],
   "source": [
    "stats = customer_df.describe().T\n",
    "stats['skew'] = st.skew(customer_df)\n",
    "stats['kurt'] = st.kurtosis(customer_df)\n",
    "stats"
   ]
  },
  {
   "cell_type": "markdown",
   "metadata": {},
   "source": [
    "---"
   ]
  },
  {
   "cell_type": "markdown",
   "metadata": {},
   "source": [
    "# MANY OF THE TOOLS WE WILL USE WILL ASSUME NORMAL DATA"
   ]
  },
  {
   "cell_type": "markdown",
   "metadata": {},
   "source": [
    "---"
   ]
  },
  {
   "cell_type": "markdown",
   "metadata": {},
   "source": [
    "You are already familiar with standardization."
   ]
  },
  {
   "cell_type": "markdown",
   "metadata": {},
   "source": [
    "## $$Z = \\frac{X-\\mu}{\\sigma}$$"
   ]
  },
  {
   "cell_type": "code",
   "execution_count": 6,
   "metadata": {},
   "outputs": [],
   "source": [
    "from sklearn.preprocessing import StandardScaler"
   ]
  },
  {
   "cell_type": "code",
   "execution_count": 7,
   "metadata": {},
   "outputs": [
    {
     "data": {
      "text/html": [
       "<div>\n",
       "<style scoped>\n",
       "    .dataframe tbody tr th:only-of-type {\n",
       "        vertical-align: middle;\n",
       "    }\n",
       "\n",
       "    .dataframe tbody tr th {\n",
       "        vertical-align: top;\n",
       "    }\n",
       "\n",
       "    .dataframe thead th {\n",
       "        text-align: right;\n",
       "    }\n",
       "</style>\n",
       "<table border=\"1\" class=\"dataframe\">\n",
       "  <thead>\n",
       "    <tr style=\"text-align: right;\">\n",
       "      <th></th>\n",
       "      <th>count</th>\n",
       "      <th>mean</th>\n",
       "      <th>std</th>\n",
       "      <th>min</th>\n",
       "      <th>25%</th>\n",
       "      <th>50%</th>\n",
       "      <th>75%</th>\n",
       "      <th>max</th>\n",
       "      <th>skew</th>\n",
       "      <th>kurt</th>\n",
       "    </tr>\n",
       "  </thead>\n",
       "  <tbody>\n",
       "    <tr>\n",
       "      <th>Fresh</th>\n",
       "      <td>440.0</td>\n",
       "      <td>12000.297727</td>\n",
       "      <td>12647.328865</td>\n",
       "      <td>3.0</td>\n",
       "      <td>3127.75</td>\n",
       "      <td>8504.0</td>\n",
       "      <td>16933.75</td>\n",
       "      <td>112151.0</td>\n",
       "      <td>2.552583</td>\n",
       "      <td>11.392124</td>\n",
       "    </tr>\n",
       "    <tr>\n",
       "      <th>Milk</th>\n",
       "      <td>440.0</td>\n",
       "      <td>5796.265909</td>\n",
       "      <td>7380.377175</td>\n",
       "      <td>55.0</td>\n",
       "      <td>1533.00</td>\n",
       "      <td>3627.0</td>\n",
       "      <td>7190.25</td>\n",
       "      <td>73498.0</td>\n",
       "      <td>4.039922</td>\n",
       "      <td>24.376349</td>\n",
       "    </tr>\n",
       "    <tr>\n",
       "      <th>Grocery</th>\n",
       "      <td>440.0</td>\n",
       "      <td>7951.277273</td>\n",
       "      <td>9503.162829</td>\n",
       "      <td>3.0</td>\n",
       "      <td>2153.00</td>\n",
       "      <td>4755.5</td>\n",
       "      <td>10655.75</td>\n",
       "      <td>92780.0</td>\n",
       "      <td>3.575187</td>\n",
       "      <td>20.664153</td>\n",
       "    </tr>\n",
       "    <tr>\n",
       "      <th>Frozen</th>\n",
       "      <td>440.0</td>\n",
       "      <td>3071.931818</td>\n",
       "      <td>4854.673333</td>\n",
       "      <td>25.0</td>\n",
       "      <td>742.25</td>\n",
       "      <td>1526.0</td>\n",
       "      <td>3554.25</td>\n",
       "      <td>60869.0</td>\n",
       "      <td>5.887826</td>\n",
       "      <td>54.056180</td>\n",
       "    </tr>\n",
       "    <tr>\n",
       "      <th>Detergents_Paper</th>\n",
       "      <td>440.0</td>\n",
       "      <td>2881.493182</td>\n",
       "      <td>4767.854448</td>\n",
       "      <td>3.0</td>\n",
       "      <td>256.75</td>\n",
       "      <td>816.5</td>\n",
       "      <td>3922.00</td>\n",
       "      <td>40827.0</td>\n",
       "      <td>3.619458</td>\n",
       "      <td>18.780528</td>\n",
       "    </tr>\n",
       "    <tr>\n",
       "      <th>Delicatessen</th>\n",
       "      <td>440.0</td>\n",
       "      <td>1524.870455</td>\n",
       "      <td>2820.105937</td>\n",
       "      <td>3.0</td>\n",
       "      <td>408.25</td>\n",
       "      <td>965.5</td>\n",
       "      <td>1820.25</td>\n",
       "      <td>47943.0</td>\n",
       "      <td>11.113534</td>\n",
       "      <td>168.747781</td>\n",
       "    </tr>\n",
       "  </tbody>\n",
       "</table>\n",
       "</div>"
      ],
      "text/plain": [
       "                  count          mean           std   min      25%     50%  \\\n",
       "Fresh             440.0  12000.297727  12647.328865   3.0  3127.75  8504.0   \n",
       "Milk              440.0   5796.265909   7380.377175  55.0  1533.00  3627.0   \n",
       "Grocery           440.0   7951.277273   9503.162829   3.0  2153.00  4755.5   \n",
       "Frozen            440.0   3071.931818   4854.673333  25.0   742.25  1526.0   \n",
       "Detergents_Paper  440.0   2881.493182   4767.854448   3.0   256.75   816.5   \n",
       "Delicatessen      440.0   1524.870455   2820.105937   3.0   408.25   965.5   \n",
       "\n",
       "                       75%       max       skew        kurt  \n",
       "Fresh             16933.75  112151.0   2.552583   11.392124  \n",
       "Milk               7190.25   73498.0   4.039922   24.376349  \n",
       "Grocery           10655.75   92780.0   3.575187   20.664153  \n",
       "Frozen             3554.25   60869.0   5.887826   54.056180  \n",
       "Detergents_Paper   3922.00   40827.0   3.619458   18.780528  \n",
       "Delicatessen       1820.25   47943.0  11.113534  168.747781  "
      ]
     },
     "metadata": {},
     "output_type": "display_data"
    },
    {
     "data": {
      "text/html": [
       "<div>\n",
       "<style scoped>\n",
       "    .dataframe tbody tr th:only-of-type {\n",
       "        vertical-align: middle;\n",
       "    }\n",
       "\n",
       "    .dataframe tbody tr th {\n",
       "        vertical-align: top;\n",
       "    }\n",
       "\n",
       "    .dataframe thead th {\n",
       "        text-align: right;\n",
       "    }\n",
       "</style>\n",
       "<table border=\"1\" class=\"dataframe\">\n",
       "  <thead>\n",
       "    <tr style=\"text-align: right;\">\n",
       "      <th></th>\n",
       "      <th>count</th>\n",
       "      <th>mean</th>\n",
       "      <th>std</th>\n",
       "      <th>min</th>\n",
       "      <th>25%</th>\n",
       "      <th>50%</th>\n",
       "      <th>75%</th>\n",
       "      <th>max</th>\n",
       "      <th>skew</th>\n",
       "      <th>kurt</th>\n",
       "    </tr>\n",
       "  </thead>\n",
       "  <tbody>\n",
       "    <tr>\n",
       "      <th>Fresh</th>\n",
       "      <td>440.0</td>\n",
       "      <td>-3.431598e-17</td>\n",
       "      <td>1.001138</td>\n",
       "      <td>-0.949683</td>\n",
       "      <td>-0.702334</td>\n",
       "      <td>-0.276760</td>\n",
       "      <td>0.390523</td>\n",
       "      <td>7.927738</td>\n",
       "      <td>2.552583</td>\n",
       "      <td>11.392124</td>\n",
       "    </tr>\n",
       "    <tr>\n",
       "      <th>Milk</th>\n",
       "      <td>440.0</td>\n",
       "      <td>0.000000e+00</td>\n",
       "      <td>1.001138</td>\n",
       "      <td>-0.778795</td>\n",
       "      <td>-0.578306</td>\n",
       "      <td>-0.294258</td>\n",
       "      <td>0.189092</td>\n",
       "      <td>9.183650</td>\n",
       "      <td>4.039922</td>\n",
       "      <td>24.376349</td>\n",
       "    </tr>\n",
       "    <tr>\n",
       "      <th>Grocery</th>\n",
       "      <td>440.0</td>\n",
       "      <td>-4.037175e-17</td>\n",
       "      <td>1.001138</td>\n",
       "      <td>-0.837334</td>\n",
       "      <td>-0.610836</td>\n",
       "      <td>-0.336668</td>\n",
       "      <td>0.284911</td>\n",
       "      <td>8.936528</td>\n",
       "      <td>3.575187</td>\n",
       "      <td>20.664153</td>\n",
       "    </tr>\n",
       "    <tr>\n",
       "      <th>Frozen</th>\n",
       "      <td>440.0</td>\n",
       "      <td>3.633457e-17</td>\n",
       "      <td>1.001138</td>\n",
       "      <td>-0.628343</td>\n",
       "      <td>-0.480431</td>\n",
       "      <td>-0.318804</td>\n",
       "      <td>0.099464</td>\n",
       "      <td>11.919002</td>\n",
       "      <td>5.887826</td>\n",
       "      <td>54.056180</td>\n",
       "    </tr>\n",
       "    <tr>\n",
       "      <th>Detergents_Paper</th>\n",
       "      <td>440.0</td>\n",
       "      <td>2.422305e-17</td>\n",
       "      <td>1.001138</td>\n",
       "      <td>-0.604416</td>\n",
       "      <td>-0.551135</td>\n",
       "      <td>-0.433600</td>\n",
       "      <td>0.218482</td>\n",
       "      <td>7.967672</td>\n",
       "      <td>3.619458</td>\n",
       "      <td>18.780528</td>\n",
       "    </tr>\n",
       "    <tr>\n",
       "      <th>Delicatessen</th>\n",
       "      <td>440.0</td>\n",
       "      <td>-8.074349e-18</td>\n",
       "      <td>1.001138</td>\n",
       "      <td>-0.540264</td>\n",
       "      <td>-0.396401</td>\n",
       "      <td>-0.198577</td>\n",
       "      <td>0.104860</td>\n",
       "      <td>16.478447</td>\n",
       "      <td>11.113534</td>\n",
       "      <td>168.747781</td>\n",
       "    </tr>\n",
       "  </tbody>\n",
       "</table>\n",
       "</div>"
      ],
      "text/plain": [
       "                  count          mean       std       min       25%       50%  \\\n",
       "Fresh             440.0 -3.431598e-17  1.001138 -0.949683 -0.702334 -0.276760   \n",
       "Milk              440.0  0.000000e+00  1.001138 -0.778795 -0.578306 -0.294258   \n",
       "Grocery           440.0 -4.037175e-17  1.001138 -0.837334 -0.610836 -0.336668   \n",
       "Frozen            440.0  3.633457e-17  1.001138 -0.628343 -0.480431 -0.318804   \n",
       "Detergents_Paper  440.0  2.422305e-17  1.001138 -0.604416 -0.551135 -0.433600   \n",
       "Delicatessen      440.0 -8.074349e-18  1.001138 -0.540264 -0.396401 -0.198577   \n",
       "\n",
       "                       75%        max       skew        kurt  \n",
       "Fresh             0.390523   7.927738   2.552583   11.392124  \n",
       "Milk              0.189092   9.183650   4.039922   24.376349  \n",
       "Grocery           0.284911   8.936528   3.575187   20.664153  \n",
       "Frozen            0.099464  11.919002   5.887826   54.056180  \n",
       "Detergents_Paper  0.218482   7.967672   3.619458   18.780528  \n",
       "Delicatessen      0.104860  16.478447  11.113534  168.747781  "
      ]
     },
     "metadata": {},
     "output_type": "display_data"
    }
   ],
   "source": [
    "scaler = StandardScaler()\n",
    "customer_sc = scaler.fit_transform(customer_df)\n",
    "customer_sc_df = pd.DataFrame(customer_sc, columns=customer_df.columns)\n",
    "\n",
    "sc_stats = customer_sc_df.describe().T\n",
    "sc_stats['skew'] = st.skew(customer_sc_df)\n",
    "sc_stats['kurt'] = st.kurtosis(customer_sc_df)\n",
    "display(stats)\n",
    "display(sc_stats)"
   ]
  },
  {
   "cell_type": "markdown",
   "metadata": {},
   "source": [
    "# Visualizing the Data"
   ]
  },
  {
   "cell_type": "code",
   "execution_count": 8,
   "metadata": {},
   "outputs": [
    {
     "data": {
      "image/png": "[encoded data removed]",
      "text/plain": [
       "<matplotlib.figure.Figure at 0x7f14d06ae940>"
      ]
     },
     "metadata": {},
     "output_type": "display_data"
    }
   ],
   "source": [
    "fig = plt.figure(figsize=(20,6))\n",
    "for i, col in enumerate(customer_df.columns):\n",
    "    fig.add_subplot(231+i)\n",
    "    sns.distplot(customer_df[col], label=col)\n",
    "    plt.axvline(customer_df[col].mean(), c='red')\n",
    "    plt.axvline(customer_df[col].median(), c='black')\n",
    "    plt.legend()"
   ]
  },
  {
   "cell_type": "code",
   "execution_count": 9,
   "metadata": {},
   "outputs": [
    {
     "data": {
      "image/png": "[encoded data removed]",
      "text/plain": [
       "<matplotlib.figure.Figure at 0x7f14cd71d978>"
      ]
     },
     "metadata": {},
     "output_type": "display_data"
    }
   ],
   "source": [
    "fig = plt.figure(figsize=(20,6))\n",
    "for i, col in enumerate(customer_sc_df.columns):\n",
    "    fig.add_subplot(231+i)\n",
    "    sns.distplot(customer_sc_df[col], label=col)\n",
    "    plt.axvline(customer_sc_df[col].mean(), c='red')\n",
    "    plt.axvline(customer_sc_df[col].median(), c='black')\n",
    "    plt.legend()"
   ]
  },
  {
   "cell_type": "markdown",
   "metadata": {},
   "source": [
    "## MANY OF THE TOOLS WE WILL USE WILL ASSUME NORMAL DATA\n",
    "\n",
    "---"
   ]
  },
  {
   "cell_type": "markdown",
   "metadata": {},
   "source": [
    "# Deskew the Data"
   ]
  },
  {
   "cell_type": "markdown",
   "metadata": {},
   "source": [
    "We will look at two common approaches to deskewing data:\n",
    "\n",
    "- the log transform\n",
    "- scaling by the Box-Cox test\n",
    "\n",
    "For purposes of comparison, we will keep both transforms."
   ]
  },
  {
   "cell_type": "markdown",
   "metadata": {},
   "source": [
    "We have previously looked at scaling data as a preprocessing step. Note that scaling of data will have no effect on its skewness. "
   ]
  },
  {
   "cell_type": "markdown",
   "metadata": {},
   "source": [
    "Another way we can verify this is via a test of skewness.\n",
    "\n",
    "To perform this test we can use the `scipy.stats.skewtest`.\n",
    "\n",
    "This function tests the null hypothesis that the skewness of the population that the sample was drawn from is the same as that of a corresponding normal distribution. Remember, a low p-value means reject the null hypothesis i.e the data is skewed!\n"
   ]
  },
  {
   "cell_type": "code",
   "execution_count": null,
   "metadata": {},
   "outputs": [],
   "source": [
    "import scipy.stats as st"
   ]
  },
  {
   "cell_type": "code",
   "execution_count": null,
   "metadata": {},
   "outputs": [],
   "source": [
    "for col in customer_sc_df.columns:\n",
    "    original_col_skewtest = st.skewtest(customer_df[col])\n",
    "    scaled_col_skewtest = st.skewtest(customer_sc_df[col])\n",
    "    print(\"{}\\norig skew test: {} \\nscaled skew test: {}\\n\\n\".format(col, \n",
    "                                                                     original_col_skewtest,\n",
    "                                                                     scaled_col_skewtest))"
   ]
  },
  {
   "cell_type": "markdown",
   "metadata": {},
   "source": [
    "## Deskew by taking the log of the data"
   ]
  },
  {
   "cell_type": "markdown",
   "metadata": {},
   "source": [
    "Many times the skew of data can be easily removed by taking the log of the data. Let's do so here.\n",
    "\n",
    "We will then scale the data after deskewing."
   ]
  },
  {
   "cell_type": "code",
   "execution_count": 10,
   "metadata": {},
   "outputs": [],
   "source": [
    "customer_log_df = np.log(customer_df)\n",
    "\n",
    "scaler.fit(customer_log_df)\n",
    "customer_log_sc = scaler.transform(customer_log_df)\n",
    "customer_log_sc_df = pd.DataFrame(customer_log_sc, columns=customer_df.columns)"
   ]
  },
  {
   "cell_type": "code",
   "execution_count": 11,
   "metadata": {},
   "outputs": [
    {
     "name": "stdout",
     "output_type": "stream",
     "text": [
      "Fresh\n",
      "    orig:       SkewtestResult(statistic=13.363200236723891, pvalue=9.920555601203282e-41) \n",
      "    scaled:     SkewtestResult(statistic=13.363200236723884, pvalue=9.9205556012042771e-41)\n",
      "    orig log:   SkewtestResult(statistic=-10.321752441398017, pvalue=5.6188111433575958e-25)\n",
      "    scaled log: SkewtestResult(statistic=-10.321752441398004, pvalue=5.6188111433582377e-25)\n",
      "    \n",
      "    \n",
      "Milk\n",
      "    orig:       SkewtestResult(statistic=16.597463367777181, pvalue=7.2698939324027666e-62) \n",
      "    scaled:     SkewtestResult(statistic=16.597463367777177, pvalue=7.2698939324029738e-62)\n",
      "    orig log:   SkewtestResult(statistic=-1.9453289163569336, pvalue=0.051735404015913103)\n",
      "    scaled log: SkewtestResult(statistic=-1.9453289163569198, pvalue=0.051735404015914761)\n",
      "    \n",
      "    \n",
      "Grocery\n",
      "    orig:       SkewtestResult(statistic=15.727788993926845, pvalue=9.7558667104486924e-56) \n",
      "    scaled:     SkewtestResult(statistic=15.727788993926845, pvalue=9.7558667104486924e-56)\n",
      "    orig log:   SkewtestResult(statistic=-5.7879184674313624, pvalue=7.1263984344851747e-09)\n",
      "    scaled log: SkewtestResult(statistic=-5.7879184674313588, pvalue=7.1263984344853302e-09)\n",
      "    \n",
      "    \n",
      "Frozen\n",
      "    orig:       SkewtestResult(statistic=19.301887122446967, pvalue=5.1783108829290055e-83) \n",
      "    scaled:     SkewtestResult(statistic=19.301887122446967, pvalue=5.1783108829290055e-83)\n",
      "    orig log:   SkewtestResult(statistic=-3.0406723463387308, pvalue=0.0023605055276906435)\n",
      "    scaled log: SkewtestResult(statistic=-3.0406723463387357, pvalue=0.002360505527690604)\n",
      "    \n",
      "    \n",
      "Detergents_Paper\n",
      "    orig:       SkewtestResult(statistic=15.815137437204189, pvalue=2.4467517316177991e-56) \n",
      "    scaled:     SkewtestResult(statistic=15.815137437204193, pvalue=2.44675173161759e-56)\n",
      "    orig log:   SkewtestResult(statistic=-2.3210681109509084, pvalue=0.020283168137496182)\n",
      "    scaled log: SkewtestResult(statistic=-2.3210681109509106, pvalue=0.020283168137496074)\n",
      "    \n",
      "    \n",
      "Delicatessen\n",
      "    orig:       SkewtestResult(statistic=23.905153021167603, pvalue=2.707223345502464e-126) \n",
      "    scaled:     SkewtestResult(statistic=23.90515302116761, pvalue=2.7072233455021563e-126)\n",
      "    orig log:   SkewtestResult(statistic=-8.2979090498939598, pvalue=1.0595974399700544e-16)\n",
      "    scaled log: SkewtestResult(statistic=-8.2979090498939652, pvalue=1.059597439970016e-16)\n",
      "    \n",
      "    \n"
     ]
    }
   ],
   "source": [
    "for col in customer_log_df.columns:\n",
    "    original_col_skewtest = st.skewtest(customer_df[col])\n",
    "    scaled_col_skewtest = st.skewtest(customer_sc_df[col])\n",
    "    original_log_col_skewtest = st.skewtest(customer_log_df[col])\n",
    "    scaled_log_col_skewtest = st.skewtest(customer_log_sc_df[col])\n",
    "    print(\"\"\"{}\n",
    "    orig:       {} \n",
    "    scaled:     {}\n",
    "    orig log:   {}\n",
    "    scaled log: {}\n",
    "    \n",
    "    \"\"\".format(col, \n",
    "               original_col_skewtest,\n",
    "               scaled_col_skewtest, \n",
    "               original_log_col_skewtest,\n",
    "               scaled_log_col_skewtest))"
   ]
  },
  {
   "cell_type": "code",
   "execution_count": null,
   "metadata": {},
   "outputs": [],
   "source": [
    "fig = plt.figure(figsize=(20,6))\n",
    "for i, col in enumerate(customer_sc_df.columns):\n",
    "    fig.add_subplot(231+i)\n",
    "    sns.distplot(customer_sc_df[col], label=col)\n",
    "    plt.axvline(customer_sc_df[col].mean(), c='red')\n",
    "    plt.axvline(customer_sc_df[col].median(), c='black')\n",
    "    plt.legend()"
   ]
  },
  {
   "cell_type": "code",
   "execution_count": null,
   "metadata": {},
   "outputs": [],
   "source": [
    "fig = plt.figure(figsize=(20,6))\n",
    "for i, col in enumerate(customer_log_sc_df.columns):\n",
    "    fig.add_subplot(231+i)\n",
    "    sns.distplot(customer_log_sc_df[col], label=col)\n",
    "    plt.axvline(customer_log_sc_df[col].mean(), c='red')\n",
    "    plt.axvline(customer_log_sc_df[col].median(), c='black')\n",
    "    plt.legend()"
   ]
  },
  {
   "cell_type": "code",
   "execution_count": null,
   "metadata": {},
   "outputs": [],
   "source": [
    "customer_log_sc_df.to_pickle('final_log_sc.p')"
   ]
  },
  {
   "cell_type": "markdown",
   "metadata": {},
   "source": [
    "---"
   ]
  },
  {
   "cell_type": "markdown",
   "metadata": {},
   "source": [
    "## Deskew by Box-Cox Test"
   ]
  },
  {
   "cell_type": "markdown",
   "metadata": {},
   "source": [
    "The box cox test works by identifying the optimum power, $\\lambda$ to raise the data where\n",
    "\n",
    "$$\\mathbf{x_i}' = \\frac{\\mathbf{x_i}^\\lambda -1}{\\lambda}$$"
   ]
  },
  {
   "cell_type": "markdown",
   "metadata": {},
   "source": [
    "![](https://www.evernote.com/l/AAFyfeEXifNCb6PDsM7FKA6-EZIKf9MQBsgB/image.png)"
   ]
  },
  {
   "cell_type": "code",
   "execution_count": null,
   "metadata": {},
   "outputs": [],
   "source": [
    "customer_box_cox_df = pd.DataFrame()\n",
    "for col in customer_df.columns:\n",
    "    box_cox_trans = st.boxcox(customer_df[col])[0]\n",
    "    customer_box_cox_df[col] = pd.Series(box_cox_trans)"
   ]
  },
  {
   "cell_type": "code",
   "execution_count": null,
   "metadata": {},
   "outputs": [],
   "source": [
    "scaler.fit(customer_box_cox_df)\n",
    "customer_box_cox_sc = scaler.transform(customer_box_cox_df)\n",
    "customer_box_cox_sc_df = pd.DataFrame(customer_box_cox_sc, columns=customer_df.columns)"
   ]
  },
  {
   "cell_type": "code",
   "execution_count": null,
   "metadata": {},
   "outputs": [],
   "source": [
    "for col in customer_log_df.columns:\n",
    "    original_col_skewtest = st.skewtest(customer_df[col])\n",
    "    scaled_col_skewtest = st.skewtest(customer_sc_df[col])\n",
    "    original_log_col_skewtest = st.skewtest(customer_log_df[col])\n",
    "    scaled_log_col_skewtest = st.skewtest(customer_log_sc_df[col])\n",
    "    original_box_cox_col_skewtest = st.skewtest(customer_box_cox_df[col])\n",
    "    scaled_box_cox_col_skewtest = st.skewtest(customer_box_cox_sc_df[col])\n",
    "    print(\"\"\"{}\n",
    "    orig:           {} \n",
    "    scaled:         {}\n",
    "    orig log:       {}\n",
    "    scaled log:     {}\n",
    "    orig box-cox:   {}\n",
    "    scaled box-cox: {}\n",
    "    \n",
    "    \"\"\".format(col, \n",
    "               original_col_skewtest,\n",
    "               scaled_col_skewtest, \n",
    "               original_log_col_skewtest,\n",
    "               scaled_log_col_skewtest, \n",
    "               original_box_cox_col_skewtest,\n",
    "               scaled_box_cox_col_skewtest))"
   ]
  },
  {
   "cell_type": "code",
   "execution_count": null,
   "metadata": {
    "scrolled": true
   },
   "outputs": [],
   "source": [
    "fig = plt.figure(figsize=(20,6))\n",
    "for i, col in enumerate(customer_box_cox_sc_df.columns):\n",
    "    fig.add_subplot(231+i)\n",
    "    sns.distplot(customer_box_cox_sc_df[col], label=col)\n",
    "    plt.axvline(customer_box_cox_sc_df[col].mean(), c='red')\n",
    "    plt.axvline(customer_box_cox_sc_df[col].median(), c='black')\n",
    "    plt.legend()"
   ]
  },
  {
   "cell_type": "code",
   "execution_count": null,
   "metadata": {},
   "outputs": [],
   "source": [
    "customer_box_cox_sc_df.to_pickle('final_box_cox_sc.p')"
   ]
  },
  {
   "cell_type": "code",
   "execution_count": null,
   "metadata": {},
   "outputs": [],
   "source": []
  }
 ],
 "metadata": {
  "kernelspec": {
   "display_name": "Python 3",
   "language": "python",
   "name": "python3"
  },
  "language_info": {
   "codemirror_mode": {
    "name": "ipython",
    "version": 3
   },
   "file_extension": ".py",
   "mimetype": "text/x-python",
   "name": "python",
   "nbconvert_exporter": "python",
   "pygments_lexer": "ipython3",
   "version": "3.6.3"
  }
 },
 "nbformat": 4,
 "nbformat_minor": 2
}
