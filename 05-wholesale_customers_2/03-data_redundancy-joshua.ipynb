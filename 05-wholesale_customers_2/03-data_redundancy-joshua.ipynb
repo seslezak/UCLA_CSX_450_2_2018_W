{
 "cells": [
  {
   "cell_type": "code",
   "execution_count": 1,
   "metadata": {},
   "outputs": [],
   "source": [
    "import pandas as pd\n",
    "import numpy as np\n",
    "import seaborn as sns\n",
    "import matplotlib.pyplot as plt\n",
    "%matplotlib inline"
   ]
  },
  {
   "cell_type": "code",
   "execution_count": 2,
   "metadata": {},
   "outputs": [],
   "source": [
    "customer_df = pd.read_csv('Wholesale_customers_data.csv')\n",
    "customer_df.drop(['Channel', 'Region'], axis=1, inplace=True)"
   ]
  },
  {
   "cell_type": "code",
   "execution_count": 3,
   "metadata": {},
   "outputs": [
    {
     "data": {
      "text/plain": [
       "(440, 6)"
      ]
     },
     "execution_count": 3,
     "metadata": {},
     "output_type": "execute_result"
    }
   ],
   "source": [
    "customer_df.shape"
   ]
  },
  {
   "cell_type": "markdown",
   "metadata": {},
   "source": [
    "# Correlation and Redundancy\n",
    "\n",
    "I claim that there is correlation and redundancy in the `customer` table. What I mean by this is that some features are linear combinations of other features. "
   ]
  },
  {
   "cell_type": "markdown",
   "metadata": {},
   "source": [
    "Let's examine redundancy by dropping a feature and seeing if the other features can predict it."
   ]
  },
  {
   "cell_type": "code",
   "execution_count": 4,
   "metadata": {},
   "outputs": [],
   "source": [
    "from sklearn.model_selection import train_test_split\n",
    "from sklearn.neighbors import KNeighborsRegressor"
   ]
  },
  {
   "cell_type": "code",
   "execution_count": 5,
   "metadata": {},
   "outputs": [],
   "source": [
    "def calculate_r_2_for_feature(data,feature):\n",
    "    new_data = data.drop(feature, axis=1)\n",
    "\n",
    "    X_train, \\\n",
    "    X_test,  \\\n",
    "    y_train, \\\n",
    "    y_test = train_test_split(\n",
    "        new_data,data[feature],test_size=0.25\n",
    "    )\n",
    "\n",
    "    regressor = KNeighborsRegressor()\n",
    "    regressor.fit(X_train,y_train)\n",
    "\n",
    "    score = regressor.score(X_test,y_test)\n",
    "    return score"
   ]
  },
  {
   "cell_type": "code",
   "execution_count": 6,
   "metadata": {},
   "outputs": [
    {
     "data": {
      "text/plain": [
       "0.6515303633904842"
      ]
     },
     "execution_count": 6,
     "metadata": {},
     "output_type": "execute_result"
    }
   ],
   "source": [
    "calculate_r_2_for_feature(customer_df,'Detergents_Paper')"
   ]
  },
  {
   "cell_type": "code",
   "execution_count": 8,
   "metadata": {},
   "outputs": [
    {
     "name": "stdout",
     "output_type": "stream",
     "text": [
      "Delicatessen:            -0.10101805779688466\n",
      "Degergents_paper:        0.8064438456501545\n",
      "Fresh:                   -0.031982882616610864\n",
      "Frozen:                  -0.008561158737762753\n",
      "Grocery:                 0.7504703913945503\n",
      "Milk:                    0.5502904289178931\n"
     ]
    }
   ],
   "source": [
    "print(\"{:24} {}\".format(\"Delicatessen: \", calculate_r_2_for_feature(customer_df,'Delicatessen')))\n",
    "print(\"{:24} {}\".format(\"Degergents_paper: \", calculate_r_2_for_feature(customer_df,'Detergents_Paper')))\n",
    "print(\"{:24} {}\".format(\"Fresh: \", calculate_r_2_for_feature(customer_df,'Fresh')))\n",
    "print(\"{:24} {}\".format(\"Frozen: \", calculate_r_2_for_feature(customer_df,'Frozen')))\n",
    "print(\"{:24} {}\".format(\"Grocery: \", calculate_r_2_for_feature(customer_df,'Grocery')))\n",
    "print(\"{:24} {}\".format(\"Milk: \", calculate_r_2_for_feature(customer_df,'Milk')))"
   ]
  },
  {
   "cell_type": "markdown",
   "metadata": {},
   "source": [
    "But this is subject to randomness. There is randomness in my `train_test_split`. Let's do the whole thing many times and take the average. "
   ]
  },
  {
   "cell_type": "code",
   "execution_count": 9,
   "metadata": {},
   "outputs": [],
   "source": [
    "def mean_r2_for_feature(data, feature):\n",
    "    scores = []\n",
    "    for _ in range(100):\n",
    "        scores.append(calculate_r_2_for_feature(data, feature))\n",
    "        \n",
    "    scores = np.array(scores)\n",
    "    return scores.mean()"
   ]
  },
  {
   "cell_type": "code",
   "execution_count": 11,
   "metadata": {},
   "outputs": [
    {
     "name": "stdout",
     "output_type": "stream",
     "text": [
      "Delicatessen:            -0.045472537525694155\n",
      "Detergents_Paper:        0.768313130885257\n",
      "Fresh:                   0.028243797281198454\n",
      "Frozen:                  0.049498252628471545\n",
      "Grocery:                 0.7232750940751902\n",
      "Milk:                    0.4576987517206871\n"
     ]
    }
   ],
   "source": [
    "print(\"{:24} {}\".format(\"Delicatessen: \", mean_r2_for_feature(customer_df,'Delicatessen')))\n",
    "print(\"{:24} {}\".format(\"Detergents_Paper: \", mean_r2_for_feature(customer_df,'Detergents_Paper')))\n",
    "print(\"{:24} {}\".format(\"Fresh: \", mean_r2_for_feature(customer_df,'Fresh')))\n",
    "print(\"{:24} {}\".format(\"Frozen: \", mean_r2_for_feature(customer_df,'Frozen')))\n",
    "print(\"{:24} {}\".format(\"Grocery: \", mean_r2_for_feature(customer_df,'Grocery')))\n",
    "print(\"{:24} {}\".format(\"Milk: \", mean_r2_for_feature(customer_df,'Milk')))"
   ]
  },
  {
   "cell_type": "code",
   "execution_count": null,
   "metadata": {},
   "outputs": [],
   "source": [
    "print(\"{:24} {}\".format(\"Delicatessen: \", mean_r2_for_feature(customer_df,'Delicatessen')))\n",
    "print(\"{:24} {}\".format(\"Detergents_Paper: \", mean_r2_for_feature(customer_df,'Detergents_Paper')))\n",
    "print(\"{:24} {}\".format(\"Fresh: \", mean_r2_for_feature(customer_df,'Fresh')))\n",
    "print(\"{:24} {}\".format(\"Frozen: \", mean_r2_for_feature(customer_df,'Frozen')))\n",
    "print(\"{:24} {}\".format(\"Grocery: \", mean_r2_for_feature(customer_df,'Grocery')))\n",
    "print(\"{:24} {}\".format(\"Milk: \", mean_r2_for_feature(customer_df,'Milk')))"
   ]
  },
  {
   "cell_type": "markdown",
   "metadata": {},
   "source": [
    "#### Discussion\n",
    "\n",
    "What does this tell us?"
   ]
  },
  {
   "cell_type": "code",
   "execution_count": null,
   "metadata": {},
   "outputs": [],
   "source": []
  },
  {
   "cell_type": "markdown",
   "metadata": {},
   "source": [
    "## Visualize Redundancy"
   ]
  },
  {
   "cell_type": "markdown",
   "metadata": {},
   "source": [
    "Study the correlation of the data."
   ]
  },
  {
   "cell_type": "code",
   "execution_count": null,
   "metadata": {},
   "outputs": [],
   "source": [
    "import time\n",
    "start = time.time()\n",
    "sns.pairplot(customer_df, kind='reg')\n",
    "print(time.time() - start)"
   ]
  },
  {
   "cell_type": "code",
   "execution_count": null,
   "metadata": {},
   "outputs": [],
   "source": [
    "corr = customer_df.corr()\n",
    "mask = np.zeros_like(corr)\n",
    "mask[np.triu_indices_from(mask, 0)] = True\n",
    "with sns.axes_style(\"white\"):\n",
    "    ax = sns.heatmap(corr, mask=mask, square=True, annot=True,\n",
    "                     cmap='RdBu', fmt='+.3f')\n",
    "    plt.xticks(rotation=45, ha='center')"
   ]
  },
  {
   "cell_type": "code",
   "execution_count": null,
   "metadata": {},
   "outputs": [],
   "source": []
  }
 ],
 "metadata": {
  "kernelspec": {
   "display_name": "Python 3",
   "language": "python",
   "name": "python3"
  },
  "language_info": {
   "codemirror_mode": {
    "name": "ipython",
    "version": 3
   },
   "file_extension": ".py",
   "mimetype": "text/x-python",
   "name": "python",
   "nbconvert_exporter": "python",
   "pygments_lexer": "ipython3",
   "version": "3.6.3"
  }
 },
 "nbformat": 4,
 "nbformat_minor": 2
}
