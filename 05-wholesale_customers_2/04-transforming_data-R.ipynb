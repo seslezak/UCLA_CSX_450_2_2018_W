{
 "cells": [
  {
   "cell_type": "code",
   "execution_count": null,
   "metadata": {},
   "outputs": [],
   "source": [
    "customer_df = read.csv('Wholesale_customers_data.csv')\n",
    "customer_df$Channel <- NULL\n",
    "customer_df$Region <- NULL\n",
    "dim(customer_df)"
   ]
  },
  {
   "cell_type": "code",
   "execution_count": null,
   "metadata": {},
   "outputs": [],
   "source": [
    "library(dplyr, warn.conflicts = FALSE)\n",
    "library(moments)"
   ]
  },
  {
   "cell_type": "code",
   "execution_count": null,
   "metadata": {},
   "outputs": [],
   "source": [
    " customer_samp_df = sample_n(customer_df, 5)"
   ]
  },
  {
   "cell_type": "code",
   "execution_count": null,
   "metadata": {},
   "outputs": [],
   "source": [
    "stats = data.frame(feature=colnames(customer_samp_df))\n",
    "stats['mean_'] = sapply(customer_samp_df, mean)\n",
    "stats['sd_'] = sapply(customer_samp_df, sd)\n",
    "stats['skewness_'] = sapply(customer_samp_df, skewness)\n",
    "stats['kurtosis_'] = sapply(customer_samp_df, kurtosis)\n",
    "stats"
   ]
  },
  {
   "cell_type": "code",
   "execution_count": null,
   "metadata": {},
   "outputs": [],
   "source": [
    "stats = data.frame(feature=colnames(customer_df))\n",
    "stats['mean_'] = sapply(customer_df, mean)\n",
    "stats['sd_'] = sapply(customer_df, sd)\n",
    "stats['skewness_'] = sapply(customer_df, skewness)\n",
    "stats['kurtosis_'] = sapply(customer_df, kurtosis)\n",
    "stats"
   ]
  },
  {
   "cell_type": "markdown",
   "metadata": {},
   "source": [
    "---"
   ]
  },
  {
   "cell_type": "markdown",
   "metadata": {},
   "source": [
    "# MANY OF THE TOOLS WE WILL USE WILL ASSUME NORMAL DATA"
   ]
  },
  {
   "cell_type": "markdown",
   "metadata": {},
   "source": [
    "---"
   ]
  },
  {
   "cell_type": "markdown",
   "metadata": {},
   "source": [
    "You are already familiar with standardization."
   ]
  },
  {
   "cell_type": "markdown",
   "metadata": {},
   "source": [
    "## $$Z = \\frac{X-\\mu}{\\sigma}$$"
   ]
  },
  {
   "cell_type": "code",
   "execution_count": null,
   "metadata": {},
   "outputs": [],
   "source": [
    "customer_sc_df = data.frame(scale(customer_df))"
   ]
  },
  {
   "cell_type": "code",
   "execution_count": null,
   "metadata": {},
   "outputs": [],
   "source": [
    "stats_sc = data.frame(feature=colnames(customer_sc_df))\n",
    "stats_sc['mean_'] = sapply(customer_sc_df, mean)\n",
    "stats_sc['sd_'] = sapply(customer_sc_df, sd)\n",
    "stats_sc['skewness_'] = sapply(customer_sc_df, skewness)\n",
    "stats_sc['kurtosis_'] = sapply(customer_sc_df, kurtosis)\n",
    "stats_sc"
   ]
  },
  {
   "cell_type": "code",
   "execution_count": null,
   "metadata": {},
   "outputs": [],
   "source": [
    "library(ggplot2)"
   ]
  },
  {
   "cell_type": "code",
   "execution_count": null,
   "metadata": {},
   "outputs": [],
   "source": [
    "head(customer_df)"
   ]
  },
  {
   "cell_type": "code",
   "execution_count": null,
   "metadata": {},
   "outputs": [],
   "source": [
    "library(repr)\n",
    "options(repr.plot.width=10, repr.plot.height=2) "
   ]
  },
  {
   "cell_type": "code",
   "execution_count": null,
   "metadata": {},
   "outputs": [],
   "source": [
    "source('multiplot.r')"
   ]
  },
  {
   "cell_type": "code",
   "execution_count": null,
   "metadata": {},
   "outputs": [],
   "source": [
    "original_v_scaled <- function (feature) {\n",
    "    original_feature <- as.vector(customer_df[[feature]])\n",
    "    scaled_feature <- as.vector(customer_sc_df[[feature]])\n",
    "    p1 <- qplot(original_feature, geom=\"histogram\", bins=200, alpha=I(.4),)+\n",
    "        geom_vline(aes(xintercept=mean(original_feature)), color=\"red\", linetype=\"dashed\", size=1)+\n",
    "        geom_vline(aes(xintercept=median(original_feature)), color=\"blue\", linetype=\"dashed\", size=1)+\n",
    "        ggtitle(paste(\"Original Distribution of\", feature))\n",
    "    p2 <- qplot(scaled_feature, geom=\"histogram\", bins=200, alpha=I(.4),)+\n",
    "        geom_vline(aes(xintercept=mean(scaled_feature)), color=\"red\", linetype=\"dashed\", size=1)+\n",
    "        geom_vline(aes(xintercept=median(scaled_feature)), color=\"blue\", linetype=\"dashed\", size=1)  +\n",
    "        ggtitle(paste(\"Scaled Distribution of\", feature))  \n",
    "    multiplot(p1, p2, cols=2)\n",
    "}\n"
   ]
  },
  {
   "cell_type": "code",
   "execution_count": null,
   "metadata": {
    "scrolled": false
   },
   "outputs": [],
   "source": [
    "original_v_scaled('Fresh')\n",
    "original_v_scaled('Milk')\n",
    "original_v_scaled('Grocery')\n",
    "original_v_scaled('Frozen')\n",
    "original_v_scaled('Detergents_Paper')\n",
    "original_v_scaled('Delicatessen')"
   ]
  },
  {
   "cell_type": "markdown",
   "metadata": {},
   "source": [
    "## MANY OF THE TOOLS WE WILL USE WILL ASSUME NORMAL DATA\n",
    "\n",
    "---"
   ]
  },
  {
   "cell_type": "markdown",
   "metadata": {},
   "source": [
    "# Deskew the Data"
   ]
  },
  {
   "cell_type": "markdown",
   "metadata": {},
   "source": [
    "We will look at two common approaches to deskewing data:\n",
    "\n",
    "- the log transform\n",
    "- scaling by the Box-Cox test\n",
    "\n",
    "For purposes of comparison, we will keep both transforms."
   ]
  },
  {
   "cell_type": "markdown",
   "metadata": {},
   "source": [
    "We have previously looked at scaling data as a preprocessing step. Note that scaling of data will have no effect on its skewness. "
   ]
  },
  {
   "cell_type": "markdown",
   "metadata": {},
   "source": [
    "Another way we can verify this is via a test of skewness.\n",
    "\n",
    "To perform this test we can use the `scipy.stats.skewtest`.\n",
    "\n",
    "This function tests the null hypothesis that the skewness of the population that the sample was drawn from is the same as that of a corresponding normal distribution. Remember, a low p-value means reject the null hypothesis i.e the data is skewed!\n"
   ]
  },
  {
   "cell_type": "code",
   "execution_count": null,
   "metadata": {},
   "outputs": [],
   "source": [
    "skewness_ = data.frame(feature=colnames(customer_sc_df))\n",
    "skewness_['skew_'] = sapply(customer_df, skewness)\n",
    "skewness_['skew_sc'] = sapply(customer_sc_df, skewness)\n",
    "skewness_"
   ]
  },
  {
   "cell_type": "markdown",
   "metadata": {},
   "source": [
    "## Deskew by taking the log of the data"
   ]
  },
  {
   "cell_type": "markdown",
   "metadata": {},
   "source": [
    "Many times the skew of data can be easily removed by taking the log of the data. Let's do so here.\n",
    "\n",
    "We will then scale the data after deskewing."
   ]
  },
  {
   "cell_type": "code",
   "execution_count": null,
   "metadata": {},
   "outputs": [],
   "source": [
    "customer_log_df = log(customer_df)\n",
    "customer_log_sc_df = data.frame(scale(customer_log_df))"
   ]
  },
  {
   "cell_type": "code",
   "execution_count": null,
   "metadata": {},
   "outputs": [],
   "source": [
    "skewness_['skew_log_'] = sapply(customer_log_df, skewness)\n",
    "skewness_['skew_log_sc'] = sapply(customer_log_sc_df, skewness)\n",
    "skewness_"
   ]
  },
  {
   "cell_type": "code",
   "execution_count": null,
   "metadata": {},
   "outputs": [],
   "source": [
    "original_v_scaled_v_log <- function (feature) {\n",
    "    original_feature <- as.vector(customer_df[[feature]])\n",
    "    scaled_feature <- as.vector(customer_sc_df[[feature]])\n",
    "    log_feature <- as.vector(customer_log_df[[feature]])\n",
    "    log_scaled_feature <- as.vector(customer_log_sc_df[[feature]])\n",
    "    p1 <- qplot(original_feature, geom=\"histogram\", bins=200, alpha=I(.4),)+\n",
    "        geom_vline(aes(xintercept=mean(original_feature)), color=\"red\", linetype=\"dashed\", size=1)+\n",
    "        geom_vline(aes(xintercept=median(original_feature)), color=\"blue\", linetype=\"dashed\", size=1)+\n",
    "        ggtitle(paste(\"Original Distribution of\", feature))\n",
    "    p2 <- qplot(scaled_feature, geom=\"histogram\", bins=200, alpha=I(.4),)+\n",
    "        geom_vline(aes(xintercept=mean(scaled_feature)), color=\"red\", linetype=\"dashed\", size=1)+\n",
    "        geom_vline(aes(xintercept=median(scaled_feature)), color=\"blue\", linetype=\"dashed\", size=1)  +\n",
    "        ggtitle(paste(\"Scaled Distribution of\", feature))  \n",
    "    p3 <- qplot(log_feature, geom=\"histogram\", bins=200, alpha=I(.4),)+\n",
    "        geom_vline(aes(xintercept=mean(log_feature)), color=\"red\", linetype=\"dashed\", size=1)+\n",
    "        geom_vline(aes(xintercept=median(log_feature)), color=\"blue\", linetype=\"dashed\", size=1)+\n",
    "        ggtitle(paste(\"Log Distribution of\", feature))\n",
    "    p4 <- qplot(log_scaled_feature, geom=\"histogram\", bins=200, alpha=I(.4),)+\n",
    "        geom_vline(aes(xintercept=mean(log_scaled_feature)), color=\"red\", linetype=\"dashed\", size=1)+\n",
    "        geom_vline(aes(xintercept=median(log_scaled_feature)), color=\"blue\", linetype=\"dashed\", size=1)  +\n",
    "        ggtitle(paste(\"Log Scaled Distribution of\", feature))  \n",
    "    multiplot(p1, p2, p3, p4, cols=4)\n",
    "}\n",
    "\n"
   ]
  },
  {
   "cell_type": "code",
   "execution_count": null,
   "metadata": {},
   "outputs": [],
   "source": [
    "original_v_scaled_v_log('Fresh')\n",
    "original_v_scaled_v_log('Milk')\n",
    "original_v_scaled_v_log('Grocery')\n",
    "original_v_scaled_v_log('Frozen')\n",
    "original_v_scaled_v_log('Detergents_Paper')\n",
    "original_v_scaled_v_log('Delicatessen')"
   ]
  },
  {
   "cell_type": "code",
   "execution_count": null,
   "metadata": {},
   "outputs": [],
   "source": []
  }
 ],
 "metadata": {
  "kernelspec": {
   "display_name": "R",
   "language": "R",
   "name": "ir"
  },
  "language_info": {
   "codemirror_mode": "r",
   "file_extension": ".r",
   "mimetype": "text/x-r-source",
   "name": "R",
   "pygments_lexer": "r",
   "version": "3.3.2"
  }
 },
 "nbformat": 4,
 "nbformat_minor": 2
}
