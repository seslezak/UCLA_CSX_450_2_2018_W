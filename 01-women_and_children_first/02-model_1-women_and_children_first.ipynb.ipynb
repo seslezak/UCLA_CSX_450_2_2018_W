{
 "cells": [
  {
   "cell_type": "markdown",
   "metadata": {},
   "source": [
    "## Domain\n",
    "\n",
    "This is an introductory data set considered the \"hello world\" of data science. It is an ongoing competition on Kaggle allowing students of data science to prepare a model and make a submission to a competition while they are still learning the subject. "
   ]
  },
  {
   "cell_type": "markdown",
   "metadata": {},
   "source": [
    "## Problem\n",
    "\n",
    "This is a binary classification problem in which the challenge is to predict whether a passenger survived the sinking of the Titanic given the demographic data of the passengers. Here, the task $T$ is a binary classification and the experience $E$ is the list of passengers and their survival outcome. "
   ]
  },
  {
   "cell_type": "markdown",
   "metadata": {},
   "source": [
    "Note `read.table` and `read.csv` are equivalent accept for the default args. `read.table` defaults to separating on white space. `read.csv` defaults to separating on commas."
   ]
  },
  {
   "cell_type": "markdown",
   "metadata": {},
   "source": [
    "## Solution\n",
    "\n",
    "To solve this problem, we will generate a vector of integers using filtering and masking."
   ]
  },
  {
   "cell_type": "code",
   "execution_count": 1,
   "metadata": {},
   "outputs": [],
   "source": [
    "titanic <- read.table('train.csv', sep=\",\", header = T)\n",
    "rownames(titanic) <- titanic$PassengerId\n",
    "titanic$PassengerId <- NULL\n",
    "titanic$Name <- NULL"
   ]
  },
  {
   "cell_type": "markdown",
   "metadata": {},
   "source": [
    "## Data Exploration"
   ]
  },
  {
   "cell_type": "code",
   "execution_count": 2,
   "metadata": {},
   "outputs": [
    {
     "data": {
      "text/html": [
       "<dl class=dl-horizontal>\n",
       "\t<dt>female</dt>\n",
       "\t\t<dd>314</dd>\n",
       "\t<dt>male</dt>\n",
       "\t\t<dd>577</dd>\n",
       "</dl>\n"
      ],
      "text/latex": [
       "\\begin{description*}\n",
       "\\item[female] 314\n",
       "\\item[male] 577\n",
       "\\end{description*}\n"
      ],
      "text/markdown": [
       "female\n",
       ":   314male\n",
       ":   577\n",
       "\n"
      ],
      "text/plain": [
       "female   male \n",
       "   314    577 "
      ]
     },
     "metadata": {},
     "output_type": "display_data"
    }
   ],
   "source": [
    "summary(titanic$Sex)"
   ]
  },
  {
   "cell_type": "markdown",
   "metadata": {},
   "source": [
    "### Use a Proporation Table to Look at Survival by Gender"
   ]
  },
  {
   "cell_type": "markdown",
   "metadata": {},
   "source": [
    "This represents the proportion of all passengers in each group."
   ]
  },
  {
   "cell_type": "code",
   "execution_count": 3,
   "metadata": {
    "scrolled": false
   },
   "outputs": [
    {
     "data": {
      "text/plain": [
       "        \n",
       "                  0          1\n",
       "  female 0.09090909 0.26150393\n",
       "  male   0.52525253 0.12233446"
      ]
     },
     "metadata": {},
     "output_type": "display_data"
    }
   ],
   "source": [
    "prop.table(table(titanic$Sex, titanic$Survived))"
   ]
  },
  {
   "cell_type": "markdown",
   "metadata": {},
   "source": [
    "This represents the proportion of survival by gender."
   ]
  },
  {
   "cell_type": "code",
   "execution_count": 4,
   "metadata": {},
   "outputs": [
    {
     "data": {
      "text/plain": [
       "        \n",
       "                 0         1\n",
       "  female 0.2579618 0.7420382\n",
       "  male   0.8110919 0.1889081"
      ]
     },
     "metadata": {},
     "output_type": "display_data"
    }
   ],
   "source": [
    "prop.table(table(titanic$Sex, titanic$Survived), 1)"
   ]
  },
  {
   "cell_type": "markdown",
   "metadata": {},
   "source": [
    "This represents the proportion of gender by survival."
   ]
  },
  {
   "cell_type": "code",
   "execution_count": 5,
   "metadata": {},
   "outputs": [
    {
     "data": {
      "text/plain": [
       "        \n",
       "                 0         1\n",
       "  female 0.1475410 0.6812865\n",
       "  male   0.8524590 0.3187135"
      ]
     },
     "metadata": {},
     "output_type": "display_data"
    }
   ],
   "source": [
    "prop.table(table(titanic$Sex, titanic$Survived), 2)"
   ]
  },
  {
   "cell_type": "markdown",
   "metadata": {},
   "source": [
    "### Use a Proporation Table to Look at Survival of Children"
   ]
  },
  {
   "cell_type": "code",
   "execution_count": 6,
   "metadata": {
    "scrolled": true
   },
   "outputs": [
    {
     "data": {
      "text/plain": [
       "       \n",
       "                0         1\n",
       "  FALSE 0.6134969 0.3865031\n",
       "  TRUE  0.3870968 0.6129032"
      ]
     },
     "metadata": {},
     "output_type": "display_data"
    }
   ],
   "source": [
    "prop.table(table(titanic$Age < 10, titanic$Survived), 1)"
   ]
  },
  {
   "cell_type": "code",
   "execution_count": 7,
   "metadata": {},
   "outputs": [
    {
     "data": {
      "text/plain": [
       "       \n",
       "                 0          1\n",
       "  FALSE 0.94339623 0.86896552\n",
       "  TRUE  0.05660377 0.13103448"
      ]
     },
     "metadata": {},
     "output_type": "display_data"
    }
   ],
   "source": [
    "prop.table(table(titanic$Age < 10, titanic$Survived), 2)"
   ]
  },
  {
   "cell_type": "markdown",
   "metadata": {},
   "source": [
    "## Benchmark Model"
   ]
  },
  {
   "cell_type": "code",
   "execution_count": 8,
   "metadata": {},
   "outputs": [],
   "source": [
    "verify_length <- function (v1, v2 ){\n",
    "    if (length(v1) != length(v2)) {\n",
    "        stop('length of vectors do not match') \n",
    "    }\n",
    "}\n",
    "\n",
    "accuracy <- function (actual, predicted) {\n",
    "    verify_length(actual, predicted)\n",
    "    return(sum(actual == predicted)/length(actual))\n",
    "}"
   ]
  },
  {
   "cell_type": "code",
   "execution_count": 9,
   "metadata": {
    "scrolled": true
   },
   "outputs": [
    {
     "data": {
      "text/html": [
       "0.616161616161616"
      ],
      "text/latex": [
       "0.616161616161616"
      ],
      "text/markdown": [
       "0.616161616161616"
      ],
      "text/plain": [
       "[1] 0.6161616"
      ]
     },
     "metadata": {},
     "output_type": "display_data"
    }
   ],
   "source": [
    "no_survivors <- rep(0, length(titanic$Survived))\n",
    "accuracy(titanic$Survived, no_survivors)"
   ]
  },
  {
   "cell_type": "markdown",
   "metadata": {},
   "source": [
    "## Women Survived"
   ]
  },
  {
   "cell_type": "code",
   "execution_count": 10,
   "metadata": {},
   "outputs": [
    {
     "data": {
      "text/html": [
       "0.78675645342312"
      ],
      "text/latex": [
       "0.78675645342312"
      ],
      "text/markdown": [
       "0.78675645342312"
      ],
      "text/plain": [
       "[1] 0.7867565"
      ]
     },
     "metadata": {},
     "output_type": "display_data"
    }
   ],
   "source": [
    "women_survived <- titanic$Sex == 'female'\n",
    "accuracy(titanic$Survived, women_survived)"
   ]
  },
  {
   "cell_type": "markdown",
   "metadata": {},
   "source": [
    "## Children Survived"
   ]
  },
  {
   "cell_type": "code",
   "execution_count": 11,
   "metadata": {},
   "outputs": [],
   "source": [
    "women_and_children_survived <- women_survived\n",
    "women_and_children_survived[titanic$Age < 10] <- 1"
   ]
  },
  {
   "cell_type": "code",
   "execution_count": 12,
   "metadata": {},
   "outputs": [
    {
     "data": {
      "text/html": [
       "0.793490460157127"
      ],
      "text/latex": [
       "0.793490460157127"
      ],
      "text/markdown": [
       "0.793490460157127"
      ],
      "text/plain": [
       "[1] 0.7934905"
      ]
     },
     "metadata": {},
     "output_type": "display_data"
    }
   ],
   "source": [
    "accuracy(titanic$Survived, women_and_children_survived)"
   ]
  },
  {
   "cell_type": "code",
   "execution_count": null,
   "metadata": {},
   "outputs": [],
   "source": []
  }
 ],
 "metadata": {
  "kernelspec": {
   "display_name": "R",
   "language": "R",
   "name": "ir"
  },
  "language_info": {
   "codemirror_mode": "r",
   "file_extension": ".r",
   "mimetype": "text/x-r-source",
   "name": "R",
   "pygments_lexer": "r",
   "version": "3.3.2"
  }
 },
 "nbformat": 4,
 "nbformat_minor": 2
}
