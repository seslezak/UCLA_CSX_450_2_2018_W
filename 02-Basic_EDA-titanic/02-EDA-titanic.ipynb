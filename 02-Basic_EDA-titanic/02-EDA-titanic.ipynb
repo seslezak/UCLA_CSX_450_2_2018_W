{
 "cells": [
  {
   "cell_type": "code",
   "execution_count": 2,
   "metadata": {},
   "outputs": [],
   "source": [
    "titanic <- read.table('train.csv', sep=\",\", header = T)"
   ]
  },
  {
   "cell_type": "code",
   "execution_count": 3,
   "metadata": {},
   "outputs": [],
   "source": [
    "rownames(titanic) <- titanic$PassengerId\n",
    "titanic$PassengerId <- NULL\n",
    "titanic$Name <- NULL"
   ]
  },
  {
   "cell_type": "code",
   "execution_count": 4,
   "metadata": {},
   "outputs": [
    {
     "name": "stdout",
     "output_type": "stream",
     "text": [
      "'data.frame':\t891 obs. of  10 variables:\n",
      " $ Survived: int  0 1 1 1 0 0 0 0 1 1 ...\n",
      " $ Pclass  : int  3 1 3 1 3 3 1 3 3 2 ...\n",
      " $ Sex     : Factor w/ 2 levels \"female\",\"male\": 2 1 1 1 2 2 2 2 1 1 ...\n",
      " $ Age     : num  22 38 26 35 35 NA 54 2 27 14 ...\n",
      " $ SibSp   : int  1 1 0 1 0 0 0 3 0 1 ...\n",
      " $ Parch   : int  0 0 0 0 0 0 0 1 2 0 ...\n",
      " $ Ticket  : Factor w/ 681 levels \"110152\",\"110413\",..: 524 597 670 50 473 276 86 396 345 133 ...\n",
      " $ Fare    : num  7.25 71.28 7.92 53.1 8.05 ...\n",
      " $ Cabin   : Factor w/ 148 levels \"\",\"A10\",\"A14\",..: 1 83 1 57 1 1 131 1 1 1 ...\n",
      " $ Embarked: Factor w/ 4 levels \"\",\"C\",\"Q\",\"S\": 4 2 4 4 4 3 4 4 4 2 ...\n"
     ]
    }
   ],
   "source": [
    "str(titanic)"
   ]
  },
  {
   "cell_type": "code",
   "execution_count": 5,
   "metadata": {},
   "outputs": [],
   "source": [
    "titanic$Pclass <- factor(titanic$Pclass)\n",
    "titanic$SibSp <- factor(titanic$SibSp)\n",
    "titanic$Parch <- factor(titanic$Parch)\n",
    "titanic$Embarked <- factor(titanic$Embarked)"
   ]
  },
  {
   "cell_type": "code",
   "execution_count": 6,
   "metadata": {},
   "outputs": [
    {
     "data": {
      "text/html": [
       "687"
      ],
      "text/latex": [
       "687"
      ],
      "text/markdown": [
       "687"
      ],
      "text/plain": [
       "[1] 687"
      ]
     },
     "metadata": {},
     "output_type": "display_data"
    }
   ],
   "source": [
    "sum(titanic$Cabin == \"\")\n",
    "titanic$Has_Cabin <- factor(titanic$Cabin != \"\")\n",
    "titanic$Cabin <- NULL"
   ]
  },
  {
   "cell_type": "code",
   "execution_count": 7,
   "metadata": {},
   "outputs": [],
   "source": [
    "titanic$Ticket <- NULL"
   ]
  },
  {
   "cell_type": "code",
   "execution_count": 8,
   "metadata": {},
   "outputs": [
    {
     "name": "stderr",
     "output_type": "stream",
     "text": [
      "Loading required package: lattice\n",
      "Loading required package: ggplot2\n"
     ]
    },
    {
     "ename": "ERROR",
     "evalue": "Error in (function (x) : no function to return from, jumping to top level\n",
     "output_type": "error",
     "traceback": [
      "Error in (function (x) : no function to return from, jumping to top level\nTraceback:\n",
      "1. library(caret)",
      "2. .getRequiredPackages2(pkgInfo, quietly = quietly)",
      "3. library(pkg, character.only = TRUE, logical.return = TRUE, lib.loc = lib.loc, \n .     quietly = quietly)",
      "4. try({\n .     attr(package, \"LibPath\") <- which.lib.loc\n .     ns <- loadNamespace(package, lib.loc)\n .     env <- attachNamespace(ns, pos = pos, deps)\n . })",
      "5. tryCatch(expr, error = function(e) {\n .     call <- conditionCall(e)\n .     if (!is.null(call)) {\n .         if (identical(call[[1L]], quote(doTryCatch))) \n .             call <- sys.call(-4L)\n .         dcall <- deparse(call)[1L]\n .         prefix <- paste(\"Error in\", dcall, \": \")\n .         LONG <- 75L\n .         msg <- conditionMessage(e)\n .         sm <- strsplit(msg, \"\\n\")[[1L]]\n .         w <- 14L + nchar(dcall, type = \"w\") + nchar(sm[1L], type = \"w\")\n .         if (is.na(w)) \n .             w <- 14L + nchar(dcall, type = \"b\") + nchar(sm[1L], \n .                 type = \"b\")\n .         if (w > LONG) \n .             prefix <- paste0(prefix, \"\\n  \")\n .     }\n .     else prefix <- \"Error : \"\n .     msg <- paste0(prefix, conditionMessage(e), \"\\n\")\n .     .Internal(seterrmessage(msg[1L]))\n .     if (!silent && identical(getOption(\"show.error.messages\"), \n .         TRUE)) {\n .         cat(msg, file = stderr())\n .         .Internal(printDeferredWarnings())\n .     }\n .     invisible(structure(msg, class = \"try-error\", condition = e))\n . })",
      "6. tryCatchList(expr, classes, parentenv, handlers)",
      "7. tryCatchOne(expr, names, parentenv, handlers[[1L]])",
      "8. doTryCatch(return(expr), name, parentenv, handler)",
      "9. loadNamespace(package, lib.loc)",
      "10. namespaceImport(ns, loadNamespace(i, c(lib.loc, .libPaths()), \n  .     versionCheck = vI[[i]]), from = package)",
      "11. loadNamespace(i, c(lib.loc, .libPaths()), versionCheck = vI[[i]])",
      "12. namespaceImportFrom(ns, loadNamespace(j <- i[[1L]], c(lib.loc, \n  .     .libPaths()), versionCheck = vI[[j]]), i[[2L]], from = package)",
      "13. asNamespace(ns)",
      "14. loadNamespace(j <- i[[1L]], c(lib.loc, .libPaths()), versionCheck = vI[[j]])",
      "15. methods::cacheMetaData(ns, TRUE, ns)",
      "16. .genericOrImplicit(f, fpkg, env)",
      "17. implicitGeneric(name, penv)",
      "18. .derivedDefaultMethod(fdefault)",
      "19. new(\"derivedDefaultMethod\")",
      "20. initialize(value, ...)",
      "21. (function (classes, fdef, mtable) \n  . {\n  .     methods <- .findInheritedMethods(classes, fdef, mtable)\n  .     if (length(methods) == 1L) \n  .         return(methods[[1L]])\n  .     else if (length(methods) == 0L) {\n  .         cnames <- paste0(\"\\\"\", vapply(classes, as.character, \n  .             \"\"), \"\\\"\", collapse = \", \")\n  .         stop(gettextf(\"unable to find an inherited method for function %s for signature %s\", \n  .             sQuote(fdef@generic), sQuote(cnames)), domain = NA)\n  .     }\n  .     else stop(\"Internal error in finding inherited methods; didn't return a unique method\", \n  .         domain = NA)\n  . })(list(structure(\"derivedDefaultMethod\", package = \"methods\")), \n  .     structure(function (.Object, ...) \n  .     {\n  .         value <- standardGeneric(\"initialize\")\n  .         if (!identical(class(value), class(.Object))) {\n  .             cv <- class(value)\n  .             co <- class(.Object)\n  .             if (.identC(cv[[1L]], co)) {\n  .                 if (is.na(match(cv, .BasicClasses)) && length(cv) == \n  .                   1L) {\n  .                   warning(gettextf(\"missing package slot (%s) in object of class %s (package info added)\", \n  .                     packageSlot(co), dQuote(class(.Object))), \n  .                     domain = NA)\n  .                   class(value) <- class(.Object)\n  .                 }\n  .                 else return(value)\n  .             }\n  .             else stop(gettextf(\"'initialize' method returned an object of class %s instead of the required class %s\", \n  .                 paste(dQuote(class(value)), collapse = \", \"), \n  .                 dQuote(class(.Object))), domain = NA)\n  .         }\n  .         value\n  .     }, generic = structure(\"initialize\", package = \"methods\"), package = \"methods\", group = list(), valueClass = character(0), signature = structure(\".Object\", simpleOnly = TRUE), default = structure(function (.Object, \n  .         ...) \n  .     {\n  .         args <- list(...)\n  .         if (length(args)) {\n  .             Class <- class(.Object)\n  .             if (!is.na(match(Class, .BasicClasses))) \n  .                 return(newBasic(Class, ...))\n  .             ClassDef <- getClass(Class)\n  .             snames <- allNames(args)\n  .             which <- nzchar(snames)\n  .             elements <- args[which]\n  .             supers <- args[!which]\n  .             thisExtends <- names(ClassDef@contains)\n  .             slotDefs <- ClassDef@slots\n  .             dataPart <- slotDefs[[\".Data\"]]\n  .             if (is.null(dataPart)) \n  .                 dataPart <- \"missing\"\n  .             if (length(supers)) {\n  .                 for (i in rev(seq_along(supers))) {\n  .                   obj <- supers[[i]]\n  .                   Classi <- class(obj)\n  .                   if (length(Classi) > 1L) \n  .                     Classi <- Classi[[1L]]\n  .                   if (.identC(Classi, Class)) \n  .                     .Object <- obj\n  .                   else if (extends(Classi, Class)) \n  .                     .Object <- as(obj, Class, strict = FALSE)\n  .                   else if (extends(Class, Classi)) \n  .                     as(.Object, Classi) <- obj\n  .                   else if (extends(Classi, dataPart)) \n  .                     .Object@.Data <- obj\n  .                   else {\n  .                     extendsi <- extends(Classi)[-1L]\n  .                     which <- match(thisExtends, extendsi)\n  .                     which <- seq_along(which)[!is.na(which)]\n  .                     if (length(which)) {\n  .                       Classi <- thisExtends[which[1L]]\n  .                       as(.Object, Classi) <- obj\n  .                     }\n  .                     else stop(gettextf(\"cannot use object of class %s in new():  class %s does not extend that class\", \n  .                       dQuote(Classi), dQuote(Class)), domain = NA)\n  .                   }\n  .                 }\n  .             }\n  .             if (length(elements)) {\n  .                 snames <- names(elements)\n  .                 if (anyDuplicated(snames)) \n  .                   stop(gettextf(\"duplicated slot names: %s\", \n  .                     paste(sQuote(snames[duplicated(snames)]), \n  .                       collapse = \", \")), domain = NA)\n  .                 which <- match(snames, names(slotDefs))\n  .                 if (anyNA(which)) \n  .                   stop(sprintf(ngettext(sum(is.na(which)), \"invalid name for slot of class %s: %s\", \n  .                     \"invalid names for slots of class %s: %s\"), \n  .                     dQuote(Class), paste(snames[is.na(which)], \n  .                       collapse = \", \")), domain = NA)\n  .                 firstTime <- TRUE\n  .                 for (i in seq_along(snames)) {\n  .                   slotName <- snames[[i]]\n  .                   slotClass <- slotDefs[[slotName]]\n  .                   slotClassDef <- getClassDef(slotClass, package = ClassDef@package)\n  .                   slotVal <- elements[[i]]\n  .                   if (!.identC(class(slotVal), slotClass) && \n  .                     !is.null(slotClassDef)) {\n  .                     valClass <- class(slotVal)\n  .                     valClassDef <- getClassDef(valClass, package = ClassDef@package)\n  .                     if (!identical(possibleExtends(valClass, \n  .                       slotClass, valClassDef, slotClassDef), \n  .                       FALSE)) \n  .                       slotVal <- as(slotVal, slotClass, strict = FALSE)\n  .                   }\n  .                   if (firstTime) {\n  .                     slot(.Object, slotName, check = FALSE) <- slotVal\n  .                     firstTime <- FALSE\n  .                   }\n  .                   else {\n  .                     `slot<-`(.Object, slotName, check = FALSE, \n  .                       slotVal)\n  .                   }\n  .                 }\n  .             }\n  .             validObject(.Object)\n  .         }\n  .         .Object\n  .     }, target = structure(\"ANY\", class = structure(\"signature\", package = \"methods\"), .Names = \".Object\", package = \"methods\"), defined = structure(\"ANY\", class = structure(\"signature\", package = \"methods\"), .Names = \".Object\", package = \"methods\"), generic = structure(\"initialize\", package = \"methods\"), class = structure(\"derivedDefaultMethod\", package = \"methods\")), skeleton = (structure(function (.Object, \n  .         ...) \n  .     {\n  .         args <- list(...)\n  .         if (length(args)) {\n  .             Class <- class(.Object)\n  .             if (!is.na(match(Class, .BasicClasses))) \n  .                 return(newBasic(Class, ...))\n  .             ClassDef <- getClass(Class)\n  .             snames <- allNames(args)\n  .             which <- nzchar(snames)\n  .             elements <- args[which]\n  .             supers <- args[!which]\n  .             thisExtends <- names(ClassDef@contains)\n  .             slotDefs <- ClassDef@slots\n  .             dataPart <- slotDefs[[\".Data\"]]\n  .             if (is.null(dataPart)) \n  .                 dataPart <- \"missing\"\n  .             if (length(supers)) {\n  .                 for (i in rev(seq_along(supers))) {\n  .                   obj <- supers[[i]]\n  .                   Classi <- class(obj)\n  .                   if (length(Classi) > 1L) \n  .                     Classi <- Classi[[1L]]\n  .                   if (.identC(Classi, Class)) \n  .                     .Object <- obj\n  .                   else if (extends(Classi, Class)) \n  .                     .Object <- as(obj, Class, strict = FALSE)\n  .                   else if (extends(Class, Classi)) \n  .                     as(.Object, Classi) <- obj\n  .                   else if (extends(Classi, dataPart)) \n  .                     .Object@.Data <- obj\n  .                   else {\n  .                     extendsi <- extends(Classi)[-1L]\n  .                     which <- match(thisExtends, extendsi)\n  .                     which <- seq_along(which)[!is.na(which)]\n  .                     if (length(which)) {\n  .                       Classi <- thisExtends[which[1L]]\n  .                       as(.Object, Classi) <- obj\n  .                     }\n  .                     else stop(gettextf(\"cannot use object of class %s in new():  class %s does not extend that class\", \n  .                       dQuote(Classi), dQuote(Class)), domain = NA)\n  .                   }\n  .                 }\n  .             }\n  .             if (length(elements)) {\n  .                 snames <- names(elements)\n  .                 if (anyDuplicated(snames)) \n  .                   stop(gettextf(\"duplicated slot names: %s\", \n  .                     paste(sQuote(snames[duplicated(snames)]), \n  .                       collapse = \", \")), domain = NA)\n  .                 which <- match(snames, names(slotDefs))\n  .                 if (anyNA(which)) \n  .                   stop(sprintf(ngettext(sum(is.na(which)), \"invalid name for slot of class %s: %s\", \n  .                     \"invalid names for slots of class %s: %s\"), \n  .                     dQuote(Class), paste(snames[is.na(which)], \n  .                       collapse = \", \")), domain = NA)\n  .                 firstTime <- TRUE\n  .                 for (i in seq_along(snames)) {\n  .                   slotName <- snames[[i]]\n  .                   slotClass <- slotDefs[[slotName]]\n  .                   slotClassDef <- getClassDef(slotClass, package = ClassDef@package)\n  .                   slotVal <- elements[[i]]\n  .                   if (!.identC(class(slotVal), slotClass) && \n  .                     !is.null(slotClassDef)) {\n  .                     valClass <- class(slotVal)\n  .                     valClassDef <- getClassDef(valClass, package = ClassDef@package)\n  .                     if (!identical(possibleExtends(valClass, \n  .                       slotClass, valClassDef, slotClassDef), \n  .                       FALSE)) \n  .                       slotVal <- as(slotVal, slotClass, strict = FALSE)\n  .                   }\n  .                   if (firstTime) {\n  .                     slot(.Object, slotName, check = FALSE) <- slotVal\n  .                     firstTime <- FALSE\n  .                   }\n  .                   else {\n  .                     `slot<-`(.Object, slotName, check = FALSE, \n  .                       slotVal)\n  .                   }\n  .                 }\n  .             }\n  .             validObject(.Object)\n  .         }\n  .         .Object\n  .     }, target = structure(\"ANY\", class = structure(\"signature\", package = \"methods\"), .Names = \".Object\", package = \"methods\"), defined = structure(\"ANY\", class = structure(\"signature\", package = \"methods\"), .Names = \".Object\", package = \"methods\"), generic = structure(\"initialize\", package = \"methods\"), class = structure(\"derivedDefaultMethod\", package = \"methods\")))(.Object, \n  .         ...), class = structure(\"nonstandardGenericFunction\", package = \"methods\")), \n  .     <environment>)",
      "22. .findInheritedMethods(classes, fdef, mtable)",
      "23. getClass(cl1, .Force = TRUE)",
      "24. getClassDef(Class, where)",
      "25. (function (x) \n  . x$.self$finalize())(<environment>)"
     ]
    }
   ],
   "source": [
    "library(caret)"
   ]
  },
  {
   "cell_type": "code",
   "execution_count": 9,
   "metadata": {},
   "outputs": [],
   "source": [
    "set.seed(10)"
   ]
  },
  {
   "cell_type": "code",
   "execution_count": 10,
   "metadata": {},
   "outputs": [],
   "source": [
    "train_index <- createDataPartition(titanic$Survived,p=0.8,list=FALSE)\n",
    "training_data <- titanic[train_index,]\n",
    "validation_data <- titanic[-train_index,]"
   ]
  },
  {
   "cell_type": "code",
   "execution_count": 11,
   "metadata": {},
   "outputs": [
    {
     "data": {
      "text/plain": [
       "\n",
       "        0         1 \n",
       "0.6143058 0.3856942 "
      ]
     },
     "metadata": {},
     "output_type": "display_data"
    },
    {
     "data": {
      "text/plain": [
       "\n",
       "        0         1 \n",
       "0.6235955 0.3764045 "
      ]
     },
     "metadata": {},
     "output_type": "display_data"
    }
   ],
   "source": [
    "prop.table(table(training_data$Survived))\n",
    "prop.table(table(validation_data$Survived))"
   ]
  },
  {
   "cell_type": "code",
   "execution_count": 12,
   "metadata": {},
   "outputs": [
    {
     "data": {
      "text/html": [
       "<dl class=dl-horizontal>\n",
       "\t<dt>Survived</dt>\n",
       "\t\t<dd>0</dd>\n",
       "\t<dt>Pclass</dt>\n",
       "\t\t<dd>0</dd>\n",
       "\t<dt>Sex</dt>\n",
       "\t\t<dd>0</dd>\n",
       "\t<dt>Age</dt>\n",
       "\t\t<dd>137</dd>\n",
       "\t<dt>SibSp</dt>\n",
       "\t\t<dd>0</dd>\n",
       "\t<dt>Parch</dt>\n",
       "\t\t<dd>0</dd>\n",
       "\t<dt>Fare</dt>\n",
       "\t\t<dd>0</dd>\n",
       "\t<dt>Embarked</dt>\n",
       "\t\t<dd>0</dd>\n",
       "\t<dt>Has_Cabin</dt>\n",
       "\t\t<dd>0</dd>\n",
       "</dl>\n"
      ],
      "text/latex": [
       "\\begin{description*}\n",
       "\\item[Survived] 0\n",
       "\\item[Pclass] 0\n",
       "\\item[Sex] 0\n",
       "\\item[Age] 137\n",
       "\\item[SibSp] 0\n",
       "\\item[Parch] 0\n",
       "\\item[Fare] 0\n",
       "\\item[Embarked] 0\n",
       "\\item[Has\\textbackslash{}\\_Cabin] 0\n",
       "\\end{description*}\n"
      ],
      "text/markdown": [
       "Survived\n",
       ":   0Pclass\n",
       ":   0Sex\n",
       ":   0Age\n",
       ":   137SibSp\n",
       ":   0Parch\n",
       ":   0Fare\n",
       ":   0Embarked\n",
       ":   0Has_Cabin\n",
       ":   0\n",
       "\n"
      ],
      "text/plain": [
       " Survived    Pclass       Sex       Age     SibSp     Parch      Fare  Embarked \n",
       "        0         0         0       137         0         0         0         0 \n",
       "Has_Cabin \n",
       "        0 "
      ]
     },
     "metadata": {},
     "output_type": "display_data"
    },
    {
     "data": {
      "text/html": [
       "<dl class=dl-horizontal>\n",
       "\t<dt>Survived</dt>\n",
       "\t\t<dd>0</dd>\n",
       "\t<dt>Pclass</dt>\n",
       "\t\t<dd>0</dd>\n",
       "\t<dt>Sex</dt>\n",
       "\t\t<dd>0</dd>\n",
       "\t<dt>Age</dt>\n",
       "\t\t<dd>40</dd>\n",
       "\t<dt>SibSp</dt>\n",
       "\t\t<dd>0</dd>\n",
       "\t<dt>Parch</dt>\n",
       "\t\t<dd>0</dd>\n",
       "\t<dt>Fare</dt>\n",
       "\t\t<dd>0</dd>\n",
       "\t<dt>Embarked</dt>\n",
       "\t\t<dd>0</dd>\n",
       "\t<dt>Has_Cabin</dt>\n",
       "\t\t<dd>0</dd>\n",
       "</dl>\n"
      ],
      "text/latex": [
       "\\begin{description*}\n",
       "\\item[Survived] 0\n",
       "\\item[Pclass] 0\n",
       "\\item[Sex] 0\n",
       "\\item[Age] 40\n",
       "\\item[SibSp] 0\n",
       "\\item[Parch] 0\n",
       "\\item[Fare] 0\n",
       "\\item[Embarked] 0\n",
       "\\item[Has\\textbackslash{}\\_Cabin] 0\n",
       "\\end{description*}\n"
      ],
      "text/markdown": [
       "Survived\n",
       ":   0Pclass\n",
       ":   0Sex\n",
       ":   0Age\n",
       ":   40SibSp\n",
       ":   0Parch\n",
       ":   0Fare\n",
       ":   0Embarked\n",
       ":   0Has_Cabin\n",
       ":   0\n",
       "\n"
      ],
      "text/plain": [
       " Survived    Pclass       Sex       Age     SibSp     Parch      Fare  Embarked \n",
       "        0         0         0        40         0         0         0         0 \n",
       "Has_Cabin \n",
       "        0 "
      ]
     },
     "metadata": {},
     "output_type": "display_data"
    },
    {
     "data": {
      "text/html": [
       "<dl class=dl-horizontal>\n",
       "\t<dt>Survived</dt>\n",
       "\t\t<dd>0</dd>\n",
       "\t<dt>Pclass</dt>\n",
       "\t\t<dd>0</dd>\n",
       "\t<dt>Sex</dt>\n",
       "\t\t<dd>0</dd>\n",
       "\t<dt>Age</dt>\n",
       "\t\t<dd>0</dd>\n",
       "\t<dt>SibSp</dt>\n",
       "\t\t<dd>0</dd>\n",
       "\t<dt>Parch</dt>\n",
       "\t\t<dd>0</dd>\n",
       "\t<dt>Fare</dt>\n",
       "\t\t<dd>0</dd>\n",
       "\t<dt>Embarked</dt>\n",
       "\t\t<dd>0</dd>\n",
       "\t<dt>Has_Cabin</dt>\n",
       "\t\t<dd>0</dd>\n",
       "</dl>\n"
      ],
      "text/latex": [
       "\\begin{description*}\n",
       "\\item[Survived] 0\n",
       "\\item[Pclass] 0\n",
       "\\item[Sex] 0\n",
       "\\item[Age] 0\n",
       "\\item[SibSp] 0\n",
       "\\item[Parch] 0\n",
       "\\item[Fare] 0\n",
       "\\item[Embarked] 0\n",
       "\\item[Has\\textbackslash{}\\_Cabin] 0\n",
       "\\end{description*}\n"
      ],
      "text/markdown": [
       "Survived\n",
       ":   0Pclass\n",
       ":   0Sex\n",
       ":   0Age\n",
       ":   0SibSp\n",
       ":   0Parch\n",
       ":   0Fare\n",
       ":   0Embarked\n",
       ":   0Has_Cabin\n",
       ":   0\n",
       "\n"
      ],
      "text/plain": [
       " Survived    Pclass       Sex       Age     SibSp     Parch      Fare  Embarked \n",
       "        0         0         0         0         0         0         0         0 \n",
       "Has_Cabin \n",
       "        0 "
      ]
     },
     "metadata": {},
     "output_type": "display_data"
    },
    {
     "data": {
      "text/html": [
       "<dl class=dl-horizontal>\n",
       "\t<dt>Survived</dt>\n",
       "\t\t<dd>0</dd>\n",
       "\t<dt>Pclass</dt>\n",
       "\t\t<dd>0</dd>\n",
       "\t<dt>Sex</dt>\n",
       "\t\t<dd>0</dd>\n",
       "\t<dt>Age</dt>\n",
       "\t\t<dd>0</dd>\n",
       "\t<dt>SibSp</dt>\n",
       "\t\t<dd>0</dd>\n",
       "\t<dt>Parch</dt>\n",
       "\t\t<dd>0</dd>\n",
       "\t<dt>Fare</dt>\n",
       "\t\t<dd>0</dd>\n",
       "\t<dt>Embarked</dt>\n",
       "\t\t<dd>0</dd>\n",
       "\t<dt>Has_Cabin</dt>\n",
       "\t\t<dd>0</dd>\n",
       "</dl>\n"
      ],
      "text/latex": [
       "\\begin{description*}\n",
       "\\item[Survived] 0\n",
       "\\item[Pclass] 0\n",
       "\\item[Sex] 0\n",
       "\\item[Age] 0\n",
       "\\item[SibSp] 0\n",
       "\\item[Parch] 0\n",
       "\\item[Fare] 0\n",
       "\\item[Embarked] 0\n",
       "\\item[Has\\textbackslash{}\\_Cabin] 0\n",
       "\\end{description*}\n"
      ],
      "text/markdown": [
       "Survived\n",
       ":   0Pclass\n",
       ":   0Sex\n",
       ":   0Age\n",
       ":   0SibSp\n",
       ":   0Parch\n",
       ":   0Fare\n",
       ":   0Embarked\n",
       ":   0Has_Cabin\n",
       ":   0\n",
       "\n"
      ],
      "text/plain": [
       " Survived    Pclass       Sex       Age     SibSp     Parch      Fare  Embarked \n",
       "        0         0         0         0         0         0         0         0 \n",
       "Has_Cabin \n",
       "        0 "
      ]
     },
     "metadata": {},
     "output_type": "display_data"
    }
   ],
   "source": [
    "colSums(is.na(training_data))\n",
    "colSums(is.na(validation_data))\n",
    "mean_age <- mean(training_data$Age, na.rm = T)\n",
    "training_data$Age[is.na(training_data$Age)] <- mean_age\n",
    "validation_data$Age[is.na(validation_data$Age)] <- mean_age\n",
    "colSums(is.na(training_data))\n",
    "colSums(is.na(validation_data))"
   ]
  },
  {
   "cell_type": "code",
   "execution_count": 13,
   "metadata": {},
   "outputs": [
    {
     "name": "stdout",
     "output_type": "stream",
     "text": [
      "'data.frame':\t713 obs. of  9 variables:\n",
      " $ Survived : int  0 1 1 0 0 0 0 1 1 0 ...\n",
      " $ Pclass   : Factor w/ 3 levels \"1\",\"2\",\"3\": 3 3 1 3 3 1 3 3 1 3 ...\n",
      " $ Sex      : Factor w/ 2 levels \"female\",\"male\": 2 1 1 2 2 2 2 1 1 2 ...\n",
      " $ Age      : num  22 26 35 35 30.1 ...\n",
      " $ SibSp    : Factor w/ 7 levels \"0\",\"1\",\"2\",\"3\",..: 2 1 2 1 1 1 4 2 1 1 ...\n",
      " $ Parch    : Factor w/ 7 levels \"0\",\"1\",\"2\",\"3\",..: 1 1 1 1 1 1 2 2 1 1 ...\n",
      " $ Fare     : num  7.25 7.92 53.1 8.05 8.46 ...\n",
      " $ Embarked : Factor w/ 4 levels \"\",\"C\",\"Q\",\"S\": 4 4 4 4 3 4 4 4 4 4 ...\n",
      " $ Has_Cabin: Factor w/ 2 levels \"FALSE\",\"TRUE\": 1 1 2 1 1 2 1 2 2 1 ...\n"
     ]
    }
   ],
   "source": [
    "str(training_data)"
   ]
  },
  {
   "cell_type": "code",
   "execution_count": 14,
   "metadata": {},
   "outputs": [],
   "source": [
    "attach(training_data)"
   ]
  },
  {
   "cell_type": "code",
   "execution_count": 15,
   "metadata": {},
   "outputs": [
    {
     "data": {
      "text/plain": [
       "Pclass\n",
       "  1   2   3 \n",
       "174 151 388 "
      ]
     },
     "metadata": {},
     "output_type": "display_data"
    },
    {
     "data": {
      "text/plain": [
       "      Survived\n",
       "Pclass         0         1\n",
       "     1 0.3850575 0.6149425\n",
       "     2 0.5033113 0.4966887\n",
       "     3 0.7603093 0.2396907"
      ]
     },
     "metadata": {},
     "output_type": "display_data"
    }
   ],
   "source": [
    "table(Pclass)\n",
    "prop.table(table(Pclass, Survived), 1)"
   ]
  },
  {
   "cell_type": "code",
   "execution_count": 16,
   "metadata": {},
   "outputs": [
    {
     "data": {
      "text/plain": [
       "Sex\n",
       "female   male \n",
       "   251    462 "
      ]
     },
     "metadata": {},
     "output_type": "display_data"
    },
    {
     "data": {
      "text/plain": [
       "        Survived\n",
       "Sex              0         1\n",
       "  female 0.2629482 0.7370518\n",
       "  male   0.8051948 0.1948052"
      ]
     },
     "metadata": {},
     "output_type": "display_data"
    }
   ],
   "source": [
    "table(Sex)\n",
    "prop.table(table(Sex, Survived), 1)"
   ]
  },
  {
   "cell_type": "code",
   "execution_count": 17,
   "metadata": {},
   "outputs": [
    {
     "data": {
      "text/plain": [
       "SibSp\n",
       "  0   1   2   3   4   5   8 \n",
       "498 164  21   8  12   4   6 "
      ]
     },
     "metadata": {},
     "output_type": "display_data"
    },
    {
     "data": {
      "text/plain": [
       "     Survived\n",
       "SibSp         0         1\n",
       "    0 0.6485944 0.3514056\n",
       "    1 0.4512195 0.5487805\n",
       "    2 0.6666667 0.3333333\n",
       "    3 0.8750000 0.1250000\n",
       "    4 0.8333333 0.1666667\n",
       "    5 1.0000000 0.0000000\n",
       "    8 1.0000000 0.0000000"
      ]
     },
     "metadata": {},
     "output_type": "display_data"
    }
   ],
   "source": [
    "table(SibSp)\n",
    "prop.table(table(SibSp, Survived), 1)"
   ]
  },
  {
   "cell_type": "code",
   "execution_count": 18,
   "metadata": {},
   "outputs": [
    {
     "data": {
      "text/plain": [
       "Parch\n",
       "  0   1   2   3   4   5   6 \n",
       "547  93  59   5   4   4   1 "
      ]
     },
     "metadata": {},
     "output_type": "display_data"
    },
    {
     "data": {
      "text/plain": [
       "     Survived\n",
       "Parch         0         1\n",
       "    0 0.6544790 0.3455210\n",
       "    1 0.4301075 0.5698925\n",
       "    2 0.5084746 0.4915254\n",
       "    3 0.4000000 0.6000000\n",
       "    4 1.0000000 0.0000000\n",
       "    5 0.7500000 0.2500000\n",
       "    6 1.0000000 0.0000000"
      ]
     },
     "metadata": {},
     "output_type": "display_data"
    }
   ],
   "source": [
    "table(Parch)\n",
    "prop.table(table(Parch, Survived), 1)"
   ]
  },
  {
   "cell_type": "code",
   "execution_count": 19,
   "metadata": {},
   "outputs": [
    {
     "data": {
      "text/plain": [
       "Embarked\n",
       "      C   Q   S \n",
       "  1 121  62 529 "
      ]
     },
     "metadata": {},
     "output_type": "display_data"
    },
    {
     "data": {
      "text/plain": [
       "        Survived\n",
       "Embarked         0         1\n",
       "         0.0000000 1.0000000\n",
       "       C 0.4628099 0.5371901\n",
       "       Q 0.6129032 0.3870968\n",
       "       S 0.6502836 0.3497164"
      ]
     },
     "metadata": {},
     "output_type": "display_data"
    }
   ],
   "source": [
    "table(Embarked)\n",
    "prop.table(table(Embarked, Survived), 1)"
   ]
  },
  {
   "cell_type": "code",
   "execution_count": null,
   "metadata": {},
   "outputs": [],
   "source": []
  }
 ],
 "metadata": {
  "kernelspec": {
   "display_name": "R",
   "language": "R",
   "name": "ir"
  },
  "language_info": {
   "codemirror_mode": "r",
   "file_extension": ".r",
   "mimetype": "text/x-r-source",
   "name": "R",
   "pygments_lexer": "r",
   "version": "3.3.2"
  }
 },
 "nbformat": 4,
 "nbformat_minor": 2
}
