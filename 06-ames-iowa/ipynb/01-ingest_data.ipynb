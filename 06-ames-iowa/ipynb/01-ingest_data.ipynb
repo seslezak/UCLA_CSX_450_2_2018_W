{
 "cells": [
  {
   "cell_type": "code",
   "execution_count": null,
   "metadata": {},
   "outputs": [],
   "source": [
    "zoning_df = read.csv('../data/zoning.csv')\n",
    "listing_df = read.csv('../data/listing.csv')\n",
    "sale_df = read.csv('../data/sale.csv')"
   ]
  },
  {
   "cell_type": "code",
   "execution_count": null,
   "metadata": {},
   "outputs": [],
   "source": [
    "head(zoning_df)"
   ]
  },
  {
   "cell_type": "code",
   "execution_count": null,
   "metadata": {},
   "outputs": [],
   "source": [
    "head(listing_df)\n",
    "\n"
   ]
  },
  {
   "cell_type": "code",
   "execution_count": null,
   "metadata": {
    "scrolled": true
   },
   "outputs": [],
   "source": [
    "head(sale_df)"
   ]
  },
  {
   "cell_type": "code",
   "execution_count": null,
   "metadata": {},
   "outputs": [],
   "source": [
    "housing_df = merge(zoning_df, listing_df, by=\"Id\")\n",
    "housing_df = merge(housing_df, sale_df, by=\"Id\")"
   ]
  },
  {
   "cell_type": "code",
   "execution_count": null,
   "metadata": {},
   "outputs": [],
   "source": [
    "head(housing_df)"
   ]
  },
  {
   "cell_type": "code",
   "execution_count": null,
   "metadata": {},
   "outputs": [],
   "source": [
    "dim(housing_df)"
   ]
  },
  {
   "cell_type": "code",
   "execution_count": null,
   "metadata": {},
   "outputs": [],
   "source": [
    "str(Filter(is.numeric, housing_df))"
   ]
  },
  {
   "cell_type": "code",
   "execution_count": null,
   "metadata": {},
   "outputs": [],
   "source": [
    "rownames(housing_df) <- housing_df$Id \n",
    "housing_df$Id <- NULL"
   ]
  },
  {
   "cell_type": "code",
   "execution_count": null,
   "metadata": {},
   "outputs": [],
   "source": [
    "housing_df$MSSubClass <- as.factor(housing_df$MSSubClass)\n",
    "housing_df$OverallQual <- as.factor(housing_df$OverallQual)\n",
    "housing_df$OverallCond <- as.factor(housing_df$OverallCond)\n",
    "housing_df$BsmtFullBath <- as.factor(housing_df$BsmtFullBath)\n",
    "housing_df$BsmtHalfBath <- as.factor(housing_df$BsmtHalfBath)\n",
    "housing_df$FullBath <- as.factor(housing_df$FullBath)\n",
    "housing_df$HalfBath <- as.factor(housing_df$HalfBath)\n",
    "housing_df$BedroomAbvGr <- as.factor(housing_df$BedroomAbvGr)\n",
    "housing_df$KitchenAbvGr <- as.factor(housing_df$KitchenAbvGr)\n",
    "housing_df$TotRmsAbvGrd <- as.factor(housing_df$TotRmsAbvGrd)\n",
    "housing_df$Fireplaces <- as.factor(housing_df$Fireplaces)\n",
    "housing_df$GarageCars <- as.factor(housing_df$GarageCars)\n",
    "housing_df$MoSold <- as.factor(housing_df$MoSold)"
   ]
  },
  {
   "cell_type": "code",
   "execution_count": null,
   "metadata": {},
   "outputs": [],
   "source": [
    "str(Filter(is.numeric, housing_df))"
   ]
  },
  {
   "cell_type": "code",
   "execution_count": null,
   "metadata": {},
   "outputs": [],
   "source": [
    "write.csv(housing_df, '../data/housing.csv')"
   ]
  },
  {
   "cell_type": "code",
   "execution_count": null,
   "metadata": {},
   "outputs": [],
   "source": []
  }
 ],
 "metadata": {
  "kernelspec": {
   "display_name": "R",
   "language": "R",
   "name": "ir"
  },
  "language_info": {
   "codemirror_mode": "r",
   "file_extension": ".r",
   "mimetype": "text/x-r-source",
   "name": "R",
   "pygments_lexer": "r",
   "version": "3.4.1"
  }
 },
 "nbformat": 4,
 "nbformat_minor": 2
}
