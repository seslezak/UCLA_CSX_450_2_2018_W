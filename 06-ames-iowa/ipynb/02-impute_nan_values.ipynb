{
 "cells": [
  {
   "cell_type": "code",
   "execution_count": null,
   "metadata": {},
   "outputs": [],
   "source": [
    "source('../src/load_data-01.r')"
   ]
  },
  {
   "cell_type": "code",
   "execution_count": null,
   "metadata": {},
   "outputs": [],
   "source": [
    "dim(housing_df)"
   ]
  },
  {
   "cell_type": "code",
   "execution_count": null,
   "metadata": {},
   "outputs": [],
   "source": [
    "head(housing_df)"
   ]
  },
  {
   "cell_type": "code",
   "execution_count": null,
   "metadata": {
    "scrolled": true
   },
   "outputs": [],
   "source": [
    "nan_sums = colSums(is.na(housing_df))\n",
    "nan_sums[nan_sums > 0]"
   ]
  },
  {
   "cell_type": "code",
   "execution_count": null,
   "metadata": {},
   "outputs": [],
   "source": [
    "mean_LotFrontage <- mean(housing_df$LotFrontage, na.rm=T)\n",
    "mean_MasVnrArea <- mean(housing_df$MasVnrArea, na.rm=T)\n",
    "mean_GarageYrBlt <- mean(housing_df$GarageYrBlt, na.rm=T)"
   ]
  },
  {
   "cell_type": "code",
   "execution_count": null,
   "metadata": {},
   "outputs": [],
   "source": [
    "housing_df$LotFrontage[is.na(housing_df$LotFrontage)] <- mean_LotFrontage\n",
    "housing_df$MasVnrArea[is.na(housing_df$MasVnrArea)] <- mean_MasVnrArea\n",
    "housing_df$GarageYrBlt[is.na(housing_df$GarageYrBlt)] <- mean_GarageYrBlt"
   ]
  },
  {
   "cell_type": "code",
   "execution_count": null,
   "metadata": {},
   "outputs": [],
   "source": [
    "nan_sums = colSums(is.na(housing_df))\n",
    "nan_sums[nan_sums > 0]"
   ]
  },
  {
   "cell_type": "code",
   "execution_count": null,
   "metadata": {},
   "outputs": [],
   "source": [
    "count_empty_values <- function (feature) {\n",
    "    empty_string_mask = housing_df[feature] == \"\"\n",
    "    return(length(housing_df[feature][empty_string_mask]))\n",
    "}\n",
    "\n",
    "count_empty_total <- function (){\n",
    "    for (feature in colnames(housing_df)) {\n",
    "        empty_count <- count_empty_values(feature)\n",
    "        if (empty_count > 0) {\n",
    "            print(paste(feature, empty_count))        \n",
    "        }\n",
    "    }\n",
    "}"
   ]
  },
  {
   "cell_type": "code",
   "execution_count": null,
   "metadata": {},
   "outputs": [],
   "source": [
    "count_empty_total()"
   ]
  },
  {
   "cell_type": "code",
   "execution_count": null,
   "metadata": {},
   "outputs": [],
   "source": [
    "empty_means_without <-c(\"Alley\",\"BsmtQual\",\"BsmtCond\",\"BsmtExposure\",\"BsmtFinType1\",\n",
    "                        \"BsmtFinType2\", \"FireplaceQu\",\"GarageType\",\"GarageFinish\",\n",
    "                        \"GarageQual\",\"GarageCond\",\"PoolQC\",\"Fence\",\"MiscFeature\")\n",
    "\n",
    "empty_means_NA <- c(\"MasVnrType\",\"Electrical\")"
   ]
  },
  {
   "cell_type": "code",
   "execution_count": null,
   "metadata": {},
   "outputs": [],
   "source": [
    "replace_empty_with_without <- function(feature) {\n",
    "    levels(feature) <- c(levels(feature), \"without\")\n",
    "    empty_string_mask <- feature == ''\n",
    "    feature[empty_string_mask] <- \"without\"\n",
    "    return(feature)\n",
    "}\n",
    "\n",
    "replace_empty_with_NA <- function(feature) {\n",
    "    levels(feature) <- c(levels(feature), NA)\n",
    "    empty_string_mask <- feature == ''\n",
    "    feature[empty_string_mask] <- NA\n",
    "    return(feature)\n",
    "}"
   ]
  },
  {
   "cell_type": "code",
   "execution_count": null,
   "metadata": {},
   "outputs": [],
   "source": [
    "for (feature in empty_means_without) {\n",
    "    housing_df[,feature] <- replace_empty_with_without(feature)\n",
    "}\n",
    "\n",
    "for (feature in empty_means_NA) {\n",
    "    housing_df[,feature] <- replace_empty_with_NA(feature)\n",
    "}"
   ]
  },
  {
   "cell_type": "code",
   "execution_count": null,
   "metadata": {},
   "outputs": [],
   "source": [
    "housing_df <- na.omit(housing_df)"
   ]
  },
  {
   "cell_type": "code",
   "execution_count": null,
   "metadata": {},
   "outputs": [],
   "source": [
    "count_empty_total()"
   ]
  },
  {
   "cell_type": "code",
   "execution_count": null,
   "metadata": {},
   "outputs": [],
   "source": []
  }
 ],
 "metadata": {
  "kernelspec": {
   "display_name": "R",
   "language": "R",
   "name": "ir"
  },
  "language_info": {
   "codemirror_mode": "r",
   "file_extension": ".r",
   "mimetype": "text/x-r-source",
   "name": "R",
   "pygments_lexer": "r",
   "version": "3.4.1"
  }
 },
 "nbformat": 4,
 "nbformat_minor": 2
}
